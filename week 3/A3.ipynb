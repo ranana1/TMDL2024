{
  "cells": [
    {
      "cell_type": "markdown",
      "id": "43554d37",
      "metadata": {
        "id": "43554d37"
      },
      "source": [
        "# Turing Machine and Deep Learning 2023\n",
        "\n",
        "## Assignment Unupervised ML\n",
        "\n",
        "This notebook is meant for you to review and reflect on the content of Lecture 3, which was mainly about unsupervised learning problems. As with last week, this notebook should not be too much quantitative work (lines of code) but keep in mind that running this notebook may take a longer time than you may be used to for python programs (*training good models take time!*)\n",
        "\n",
        "### Handing in your Assignment\n",
        "\n",
        "Git is an invaluable resource to researchers and developers, and thus for this course, all course material will be (additionally) shared on GitHub. Though there is a tiny bit of a learning curve, this is worth the effort. To hand in your assignment (applicable to all weeks):\n",
        "\n",
        "1. Create a folder called \"Week 2\" and copy this notebook and any other files or data that may be needed.\n",
        "2. Finish the notebook and commit and push regularly. Your final commit before the deadline will be graded.\n",
        "\n",
        "\n",
        "### Grading\n",
        "\n",
        "Each one of the (sub-)questions below will be graded either 0 (insufficient), 1 (sufficient) or 2 (good). If $N$ is the number of sub-questions, and $p_i$ is your score for sub-question $i$, your total grade $G$ for this assignment is:\n",
        "$$G=\\frac{1}{2 N}\\sum_{i=0}^{N}p_i$$"
      ]
    },
    {
      "cell_type": "code",
      "execution_count": 4,
      "id": "52fbab8b",
      "metadata": {
        "id": "52fbab8b"
      },
      "outputs": [],
      "source": [
        "# load common libraries\n",
        "import numpy as np                 # maths\n",
        "import matplotlib.pyplot as plt    # plotting\n",
        "import pandas as pd                # data manipulation\n",
        "from tqdm import tqdm              # loading bar\n",
        "from time import perf_counter      # timer"
      ]
    },
    {
      "cell_type": "markdown",
      "id": "bf4c3a0a",
      "metadata": {
        "id": "bf4c3a0a"
      },
      "source": [
        "# Q1 Loading and preprocessing data\n",
        "\n",
        "In this repository, you should find a file called `tmdb_5000_movies.csv` which is information from a subset of movies on The Movie Database."
      ]
    },
    {
      "cell_type": "markdown",
      "id": "40715541",
      "metadata": {
        "id": "40715541"
      },
      "source": [
        "### Q.1.1\n",
        "Use pandas to read in the csv file (refer to [read_csv](https://pandas.pydata.org/docs/reference/api/pandas.read_csv.html) if you're unfamiliar)."
      ]
    },
    {
      "cell_type": "code",
      "execution_count": 5,
      "id": "c10a5202",
      "metadata": {
        "colab": {
          "base_uri": "https://localhost:8080/",
          "height": 1000
        },
        "id": "c10a5202",
        "outputId": "946178c5-3ae4-4fcf-9240-0b89a0c488e7"
      },
      "outputs": [
        {
          "data": {
            "text/html": [
              "<div>\n",
              "<style scoped>\n",
              "    .dataframe tbody tr th:only-of-type {\n",
              "        vertical-align: middle;\n",
              "    }\n",
              "\n",
              "    .dataframe tbody tr th {\n",
              "        vertical-align: top;\n",
              "    }\n",
              "\n",
              "    .dataframe thead th {\n",
              "        text-align: right;\n",
              "    }\n",
              "</style>\n",
              "<table border=\"1\" class=\"dataframe\">\n",
              "  <thead>\n",
              "    <tr style=\"text-align: right;\">\n",
              "      <th></th>\n",
              "      <th>budget</th>\n",
              "      <th>genres</th>\n",
              "      <th>homepage</th>\n",
              "      <th>id</th>\n",
              "      <th>keywords</th>\n",
              "      <th>original_language</th>\n",
              "      <th>original_title</th>\n",
              "      <th>overview</th>\n",
              "      <th>popularity</th>\n",
              "      <th>production_companies</th>\n",
              "      <th>production_countries</th>\n",
              "      <th>release_date</th>\n",
              "      <th>revenue</th>\n",
              "      <th>runtime</th>\n",
              "      <th>spoken_languages</th>\n",
              "      <th>status</th>\n",
              "      <th>tagline</th>\n",
              "      <th>title</th>\n",
              "      <th>vote_average</th>\n",
              "      <th>vote_count</th>\n",
              "    </tr>\n",
              "  </thead>\n",
              "  <tbody>\n",
              "    <tr>\n",
              "      <th>0</th>\n",
              "      <td>237000000</td>\n",
              "      <td>[{\"id\": 28, \"name\": \"Action\"}, {\"id\": 12, \"nam...</td>\n",
              "      <td>http://www.avatarmovie.com/</td>\n",
              "      <td>19995</td>\n",
              "      <td>[{\"id\": 1463, \"name\": \"culture clash\"}, {\"id\":...</td>\n",
              "      <td>en</td>\n",
              "      <td>Avatar</td>\n",
              "      <td>In the 22nd century, a paraplegic Marine is di...</td>\n",
              "      <td>150.437577</td>\n",
              "      <td>[{\"name\": \"Ingenious Film Partners\", \"id\": 289...</td>\n",
              "      <td>[{\"iso_3166_1\": \"US\", \"name\": \"United States o...</td>\n",
              "      <td>2009-12-10</td>\n",
              "      <td>2787965087</td>\n",
              "      <td>162.0</td>\n",
              "      <td>[{\"iso_639_1\": \"en\", \"name\": \"English\"}, {\"iso...</td>\n",
              "      <td>Released</td>\n",
              "      <td>Enter the World of Pandora.</td>\n",
              "      <td>Avatar</td>\n",
              "      <td>7.2</td>\n",
              "      <td>11800</td>\n",
              "    </tr>\n",
              "    <tr>\n",
              "      <th>1</th>\n",
              "      <td>300000000</td>\n",
              "      <td>[{\"id\": 12, \"name\": \"Adventure\"}, {\"id\": 14, \"...</td>\n",
              "      <td>http://disney.go.com/disneypictures/pirates/</td>\n",
              "      <td>285</td>\n",
              "      <td>[{\"id\": 270, \"name\": \"ocean\"}, {\"id\": 726, \"na...</td>\n",
              "      <td>en</td>\n",
              "      <td>Pirates of the Caribbean: At World's End</td>\n",
              "      <td>Captain Barbossa, long believed to be dead, ha...</td>\n",
              "      <td>139.082615</td>\n",
              "      <td>[{\"name\": \"Walt Disney Pictures\", \"id\": 2}, {\"...</td>\n",
              "      <td>[{\"iso_3166_1\": \"US\", \"name\": \"United States o...</td>\n",
              "      <td>2007-05-19</td>\n",
              "      <td>961000000</td>\n",
              "      <td>169.0</td>\n",
              "      <td>[{\"iso_639_1\": \"en\", \"name\": \"English\"}]</td>\n",
              "      <td>Released</td>\n",
              "      <td>At the end of the world, the adventure begins.</td>\n",
              "      <td>Pirates of the Caribbean: At World's End</td>\n",
              "      <td>6.9</td>\n",
              "      <td>4500</td>\n",
              "    </tr>\n",
              "    <tr>\n",
              "      <th>2</th>\n",
              "      <td>245000000</td>\n",
              "      <td>[{\"id\": 28, \"name\": \"Action\"}, {\"id\": 12, \"nam...</td>\n",
              "      <td>http://www.sonypictures.com/movies/spectre/</td>\n",
              "      <td>206647</td>\n",
              "      <td>[{\"id\": 470, \"name\": \"spy\"}, {\"id\": 818, \"name...</td>\n",
              "      <td>en</td>\n",
              "      <td>Spectre</td>\n",
              "      <td>A cryptic message from Bond’s past sends him o...</td>\n",
              "      <td>107.376788</td>\n",
              "      <td>[{\"name\": \"Columbia Pictures\", \"id\": 5}, {\"nam...</td>\n",
              "      <td>[{\"iso_3166_1\": \"GB\", \"name\": \"United Kingdom\"...</td>\n",
              "      <td>2015-10-26</td>\n",
              "      <td>880674609</td>\n",
              "      <td>148.0</td>\n",
              "      <td>[{\"iso_639_1\": \"fr\", \"name\": \"Fran\\u00e7ais\"},...</td>\n",
              "      <td>Released</td>\n",
              "      <td>A Plan No One Escapes</td>\n",
              "      <td>Spectre</td>\n",
              "      <td>6.3</td>\n",
              "      <td>4466</td>\n",
              "    </tr>\n",
              "    <tr>\n",
              "      <th>3</th>\n",
              "      <td>250000000</td>\n",
              "      <td>[{\"id\": 28, \"name\": \"Action\"}, {\"id\": 80, \"nam...</td>\n",
              "      <td>http://www.thedarkknightrises.com/</td>\n",
              "      <td>49026</td>\n",
              "      <td>[{\"id\": 849, \"name\": \"dc comics\"}, {\"id\": 853,...</td>\n",
              "      <td>en</td>\n",
              "      <td>The Dark Knight Rises</td>\n",
              "      <td>Following the death of District Attorney Harve...</td>\n",
              "      <td>112.312950</td>\n",
              "      <td>[{\"name\": \"Legendary Pictures\", \"id\": 923}, {\"...</td>\n",
              "      <td>[{\"iso_3166_1\": \"US\", \"name\": \"United States o...</td>\n",
              "      <td>2012-07-16</td>\n",
              "      <td>1084939099</td>\n",
              "      <td>165.0</td>\n",
              "      <td>[{\"iso_639_1\": \"en\", \"name\": \"English\"}]</td>\n",
              "      <td>Released</td>\n",
              "      <td>The Legend Ends</td>\n",
              "      <td>The Dark Knight Rises</td>\n",
              "      <td>7.6</td>\n",
              "      <td>9106</td>\n",
              "    </tr>\n",
              "    <tr>\n",
              "      <th>4</th>\n",
              "      <td>260000000</td>\n",
              "      <td>[{\"id\": 28, \"name\": \"Action\"}, {\"id\": 12, \"nam...</td>\n",
              "      <td>http://movies.disney.com/john-carter</td>\n",
              "      <td>49529</td>\n",
              "      <td>[{\"id\": 818, \"name\": \"based on novel\"}, {\"id\":...</td>\n",
              "      <td>en</td>\n",
              "      <td>John Carter</td>\n",
              "      <td>John Carter is a war-weary, former military ca...</td>\n",
              "      <td>43.926995</td>\n",
              "      <td>[{\"name\": \"Walt Disney Pictures\", \"id\": 2}]</td>\n",
              "      <td>[{\"iso_3166_1\": \"US\", \"name\": \"United States o...</td>\n",
              "      <td>2012-03-07</td>\n",
              "      <td>284139100</td>\n",
              "      <td>132.0</td>\n",
              "      <td>[{\"iso_639_1\": \"en\", \"name\": \"English\"}]</td>\n",
              "      <td>Released</td>\n",
              "      <td>Lost in our world, found in another.</td>\n",
              "      <td>John Carter</td>\n",
              "      <td>6.1</td>\n",
              "      <td>2124</td>\n",
              "    </tr>\n",
              "    <tr>\n",
              "      <th>...</th>\n",
              "      <td>...</td>\n",
              "      <td>...</td>\n",
              "      <td>...</td>\n",
              "      <td>...</td>\n",
              "      <td>...</td>\n",
              "      <td>...</td>\n",
              "      <td>...</td>\n",
              "      <td>...</td>\n",
              "      <td>...</td>\n",
              "      <td>...</td>\n",
              "      <td>...</td>\n",
              "      <td>...</td>\n",
              "      <td>...</td>\n",
              "      <td>...</td>\n",
              "      <td>...</td>\n",
              "      <td>...</td>\n",
              "      <td>...</td>\n",
              "      <td>...</td>\n",
              "      <td>...</td>\n",
              "      <td>...</td>\n",
              "    </tr>\n",
              "    <tr>\n",
              "      <th>4798</th>\n",
              "      <td>220000</td>\n",
              "      <td>[{\"id\": 28, \"name\": \"Action\"}, {\"id\": 80, \"nam...</td>\n",
              "      <td>NaN</td>\n",
              "      <td>9367</td>\n",
              "      <td>[{\"id\": 5616, \"name\": \"united states\\u2013mexi...</td>\n",
              "      <td>es</td>\n",
              "      <td>El Mariachi</td>\n",
              "      <td>El Mariachi just wants to play his guitar and ...</td>\n",
              "      <td>14.269792</td>\n",
              "      <td>[{\"name\": \"Columbia Pictures\", \"id\": 5}]</td>\n",
              "      <td>[{\"iso_3166_1\": \"MX\", \"name\": \"Mexico\"}, {\"iso...</td>\n",
              "      <td>1992-09-04</td>\n",
              "      <td>2040920</td>\n",
              "      <td>81.0</td>\n",
              "      <td>[{\"iso_639_1\": \"es\", \"name\": \"Espa\\u00f1ol\"}]</td>\n",
              "      <td>Released</td>\n",
              "      <td>He didn't come looking for trouble, but troubl...</td>\n",
              "      <td>El Mariachi</td>\n",
              "      <td>6.6</td>\n",
              "      <td>238</td>\n",
              "    </tr>\n",
              "    <tr>\n",
              "      <th>4799</th>\n",
              "      <td>9000</td>\n",
              "      <td>[{\"id\": 35, \"name\": \"Comedy\"}, {\"id\": 10749, \"...</td>\n",
              "      <td>NaN</td>\n",
              "      <td>72766</td>\n",
              "      <td>[]</td>\n",
              "      <td>en</td>\n",
              "      <td>Newlyweds</td>\n",
              "      <td>A newlywed couple's honeymoon is upended by th...</td>\n",
              "      <td>0.642552</td>\n",
              "      <td>[]</td>\n",
              "      <td>[]</td>\n",
              "      <td>2011-12-26</td>\n",
              "      <td>0</td>\n",
              "      <td>85.0</td>\n",
              "      <td>[]</td>\n",
              "      <td>Released</td>\n",
              "      <td>A newlywed couple's honeymoon is upended by th...</td>\n",
              "      <td>Newlyweds</td>\n",
              "      <td>5.9</td>\n",
              "      <td>5</td>\n",
              "    </tr>\n",
              "    <tr>\n",
              "      <th>4800</th>\n",
              "      <td>0</td>\n",
              "      <td>[{\"id\": 35, \"name\": \"Comedy\"}, {\"id\": 18, \"nam...</td>\n",
              "      <td>http://www.hallmarkchannel.com/signedsealeddel...</td>\n",
              "      <td>231617</td>\n",
              "      <td>[{\"id\": 248, \"name\": \"date\"}, {\"id\": 699, \"nam...</td>\n",
              "      <td>en</td>\n",
              "      <td>Signed, Sealed, Delivered</td>\n",
              "      <td>\"Signed, Sealed, Delivered\" introduces a dedic...</td>\n",
              "      <td>1.444476</td>\n",
              "      <td>[{\"name\": \"Front Street Pictures\", \"id\": 3958}...</td>\n",
              "      <td>[{\"iso_3166_1\": \"US\", \"name\": \"United States o...</td>\n",
              "      <td>2013-10-13</td>\n",
              "      <td>0</td>\n",
              "      <td>120.0</td>\n",
              "      <td>[{\"iso_639_1\": \"en\", \"name\": \"English\"}]</td>\n",
              "      <td>Released</td>\n",
              "      <td>NaN</td>\n",
              "      <td>Signed, Sealed, Delivered</td>\n",
              "      <td>7.0</td>\n",
              "      <td>6</td>\n",
              "    </tr>\n",
              "    <tr>\n",
              "      <th>4801</th>\n",
              "      <td>0</td>\n",
              "      <td>[]</td>\n",
              "      <td>http://shanghaicalling.com/</td>\n",
              "      <td>126186</td>\n",
              "      <td>[]</td>\n",
              "      <td>en</td>\n",
              "      <td>Shanghai Calling</td>\n",
              "      <td>When ambitious New York attorney Sam is sent t...</td>\n",
              "      <td>0.857008</td>\n",
              "      <td>[]</td>\n",
              "      <td>[{\"iso_3166_1\": \"US\", \"name\": \"United States o...</td>\n",
              "      <td>2012-05-03</td>\n",
              "      <td>0</td>\n",
              "      <td>98.0</td>\n",
              "      <td>[{\"iso_639_1\": \"en\", \"name\": \"English\"}]</td>\n",
              "      <td>Released</td>\n",
              "      <td>A New Yorker in Shanghai</td>\n",
              "      <td>Shanghai Calling</td>\n",
              "      <td>5.7</td>\n",
              "      <td>7</td>\n",
              "    </tr>\n",
              "    <tr>\n",
              "      <th>4802</th>\n",
              "      <td>0</td>\n",
              "      <td>[{\"id\": 99, \"name\": \"Documentary\"}]</td>\n",
              "      <td>NaN</td>\n",
              "      <td>25975</td>\n",
              "      <td>[{\"id\": 1523, \"name\": \"obsession\"}, {\"id\": 224...</td>\n",
              "      <td>en</td>\n",
              "      <td>My Date with Drew</td>\n",
              "      <td>Ever since the second grade when he first saw ...</td>\n",
              "      <td>1.929883</td>\n",
              "      <td>[{\"name\": \"rusty bear entertainment\", \"id\": 87...</td>\n",
              "      <td>[{\"iso_3166_1\": \"US\", \"name\": \"United States o...</td>\n",
              "      <td>2005-08-05</td>\n",
              "      <td>0</td>\n",
              "      <td>90.0</td>\n",
              "      <td>[{\"iso_639_1\": \"en\", \"name\": \"English\"}]</td>\n",
              "      <td>Released</td>\n",
              "      <td>NaN</td>\n",
              "      <td>My Date with Drew</td>\n",
              "      <td>6.3</td>\n",
              "      <td>16</td>\n",
              "    </tr>\n",
              "  </tbody>\n",
              "</table>\n",
              "<p>4803 rows × 20 columns</p>\n",
              "</div>"
            ],
            "text/plain": [
              "         budget                                             genres  \\\n",
              "0     237000000  [{\"id\": 28, \"name\": \"Action\"}, {\"id\": 12, \"nam...   \n",
              "1     300000000  [{\"id\": 12, \"name\": \"Adventure\"}, {\"id\": 14, \"...   \n",
              "2     245000000  [{\"id\": 28, \"name\": \"Action\"}, {\"id\": 12, \"nam...   \n",
              "3     250000000  [{\"id\": 28, \"name\": \"Action\"}, {\"id\": 80, \"nam...   \n",
              "4     260000000  [{\"id\": 28, \"name\": \"Action\"}, {\"id\": 12, \"nam...   \n",
              "...         ...                                                ...   \n",
              "4798     220000  [{\"id\": 28, \"name\": \"Action\"}, {\"id\": 80, \"nam...   \n",
              "4799       9000  [{\"id\": 35, \"name\": \"Comedy\"}, {\"id\": 10749, \"...   \n",
              "4800          0  [{\"id\": 35, \"name\": \"Comedy\"}, {\"id\": 18, \"nam...   \n",
              "4801          0                                                 []   \n",
              "4802          0                [{\"id\": 99, \"name\": \"Documentary\"}]   \n",
              "\n",
              "                                               homepage      id  \\\n",
              "0                           http://www.avatarmovie.com/   19995   \n",
              "1          http://disney.go.com/disneypictures/pirates/     285   \n",
              "2           http://www.sonypictures.com/movies/spectre/  206647   \n",
              "3                    http://www.thedarkknightrises.com/   49026   \n",
              "4                  http://movies.disney.com/john-carter   49529   \n",
              "...                                                 ...     ...   \n",
              "4798                                                NaN    9367   \n",
              "4799                                                NaN   72766   \n",
              "4800  http://www.hallmarkchannel.com/signedsealeddel...  231617   \n",
              "4801                        http://shanghaicalling.com/  126186   \n",
              "4802                                                NaN   25975   \n",
              "\n",
              "                                               keywords original_language  \\\n",
              "0     [{\"id\": 1463, \"name\": \"culture clash\"}, {\"id\":...                en   \n",
              "1     [{\"id\": 270, \"name\": \"ocean\"}, {\"id\": 726, \"na...                en   \n",
              "2     [{\"id\": 470, \"name\": \"spy\"}, {\"id\": 818, \"name...                en   \n",
              "3     [{\"id\": 849, \"name\": \"dc comics\"}, {\"id\": 853,...                en   \n",
              "4     [{\"id\": 818, \"name\": \"based on novel\"}, {\"id\":...                en   \n",
              "...                                                 ...               ...   \n",
              "4798  [{\"id\": 5616, \"name\": \"united states\\u2013mexi...                es   \n",
              "4799                                                 []                en   \n",
              "4800  [{\"id\": 248, \"name\": \"date\"}, {\"id\": 699, \"nam...                en   \n",
              "4801                                                 []                en   \n",
              "4802  [{\"id\": 1523, \"name\": \"obsession\"}, {\"id\": 224...                en   \n",
              "\n",
              "                                original_title  \\\n",
              "0                                       Avatar   \n",
              "1     Pirates of the Caribbean: At World's End   \n",
              "2                                      Spectre   \n",
              "3                        The Dark Knight Rises   \n",
              "4                                  John Carter   \n",
              "...                                        ...   \n",
              "4798                               El Mariachi   \n",
              "4799                                 Newlyweds   \n",
              "4800                 Signed, Sealed, Delivered   \n",
              "4801                          Shanghai Calling   \n",
              "4802                         My Date with Drew   \n",
              "\n",
              "                                               overview  popularity  \\\n",
              "0     In the 22nd century, a paraplegic Marine is di...  150.437577   \n",
              "1     Captain Barbossa, long believed to be dead, ha...  139.082615   \n",
              "2     A cryptic message from Bond’s past sends him o...  107.376788   \n",
              "3     Following the death of District Attorney Harve...  112.312950   \n",
              "4     John Carter is a war-weary, former military ca...   43.926995   \n",
              "...                                                 ...         ...   \n",
              "4798  El Mariachi just wants to play his guitar and ...   14.269792   \n",
              "4799  A newlywed couple's honeymoon is upended by th...    0.642552   \n",
              "4800  \"Signed, Sealed, Delivered\" introduces a dedic...    1.444476   \n",
              "4801  When ambitious New York attorney Sam is sent t...    0.857008   \n",
              "4802  Ever since the second grade when he first saw ...    1.929883   \n",
              "\n",
              "                                   production_companies  \\\n",
              "0     [{\"name\": \"Ingenious Film Partners\", \"id\": 289...   \n",
              "1     [{\"name\": \"Walt Disney Pictures\", \"id\": 2}, {\"...   \n",
              "2     [{\"name\": \"Columbia Pictures\", \"id\": 5}, {\"nam...   \n",
              "3     [{\"name\": \"Legendary Pictures\", \"id\": 923}, {\"...   \n",
              "4           [{\"name\": \"Walt Disney Pictures\", \"id\": 2}]   \n",
              "...                                                 ...   \n",
              "4798           [{\"name\": \"Columbia Pictures\", \"id\": 5}]   \n",
              "4799                                                 []   \n",
              "4800  [{\"name\": \"Front Street Pictures\", \"id\": 3958}...   \n",
              "4801                                                 []   \n",
              "4802  [{\"name\": \"rusty bear entertainment\", \"id\": 87...   \n",
              "\n",
              "                                   production_countries release_date  \\\n",
              "0     [{\"iso_3166_1\": \"US\", \"name\": \"United States o...   2009-12-10   \n",
              "1     [{\"iso_3166_1\": \"US\", \"name\": \"United States o...   2007-05-19   \n",
              "2     [{\"iso_3166_1\": \"GB\", \"name\": \"United Kingdom\"...   2015-10-26   \n",
              "3     [{\"iso_3166_1\": \"US\", \"name\": \"United States o...   2012-07-16   \n",
              "4     [{\"iso_3166_1\": \"US\", \"name\": \"United States o...   2012-03-07   \n",
              "...                                                 ...          ...   \n",
              "4798  [{\"iso_3166_1\": \"MX\", \"name\": \"Mexico\"}, {\"iso...   1992-09-04   \n",
              "4799                                                 []   2011-12-26   \n",
              "4800  [{\"iso_3166_1\": \"US\", \"name\": \"United States o...   2013-10-13   \n",
              "4801  [{\"iso_3166_1\": \"US\", \"name\": \"United States o...   2012-05-03   \n",
              "4802  [{\"iso_3166_1\": \"US\", \"name\": \"United States o...   2005-08-05   \n",
              "\n",
              "         revenue  runtime                                   spoken_languages  \\\n",
              "0     2787965087    162.0  [{\"iso_639_1\": \"en\", \"name\": \"English\"}, {\"iso...   \n",
              "1      961000000    169.0           [{\"iso_639_1\": \"en\", \"name\": \"English\"}]   \n",
              "2      880674609    148.0  [{\"iso_639_1\": \"fr\", \"name\": \"Fran\\u00e7ais\"},...   \n",
              "3     1084939099    165.0           [{\"iso_639_1\": \"en\", \"name\": \"English\"}]   \n",
              "4      284139100    132.0           [{\"iso_639_1\": \"en\", \"name\": \"English\"}]   \n",
              "...          ...      ...                                                ...   \n",
              "4798     2040920     81.0      [{\"iso_639_1\": \"es\", \"name\": \"Espa\\u00f1ol\"}]   \n",
              "4799           0     85.0                                                 []   \n",
              "4800           0    120.0           [{\"iso_639_1\": \"en\", \"name\": \"English\"}]   \n",
              "4801           0     98.0           [{\"iso_639_1\": \"en\", \"name\": \"English\"}]   \n",
              "4802           0     90.0           [{\"iso_639_1\": \"en\", \"name\": \"English\"}]   \n",
              "\n",
              "        status                                            tagline  \\\n",
              "0     Released                        Enter the World of Pandora.   \n",
              "1     Released     At the end of the world, the adventure begins.   \n",
              "2     Released                              A Plan No One Escapes   \n",
              "3     Released                                    The Legend Ends   \n",
              "4     Released               Lost in our world, found in another.   \n",
              "...        ...                                                ...   \n",
              "4798  Released  He didn't come looking for trouble, but troubl...   \n",
              "4799  Released  A newlywed couple's honeymoon is upended by th...   \n",
              "4800  Released                                                NaN   \n",
              "4801  Released                           A New Yorker in Shanghai   \n",
              "4802  Released                                                NaN   \n",
              "\n",
              "                                         title  vote_average  vote_count  \n",
              "0                                       Avatar           7.2       11800  \n",
              "1     Pirates of the Caribbean: At World's End           6.9        4500  \n",
              "2                                      Spectre           6.3        4466  \n",
              "3                        The Dark Knight Rises           7.6        9106  \n",
              "4                                  John Carter           6.1        2124  \n",
              "...                                        ...           ...         ...  \n",
              "4798                               El Mariachi           6.6         238  \n",
              "4799                                 Newlyweds           5.9           5  \n",
              "4800                 Signed, Sealed, Delivered           7.0           6  \n",
              "4801                          Shanghai Calling           5.7           7  \n",
              "4802                         My Date with Drew           6.3          16  \n",
              "\n",
              "[4803 rows x 20 columns]"
            ]
          },
          "execution_count": 5,
          "metadata": {},
          "output_type": "execute_result"
        }
      ],
      "source": [
        "df = pd.read_csv(\"movies.csv\")\n",
        "df"
      ]
    },
    {
      "cell_type": "markdown",
      "id": "1915f1f7",
      "metadata": {
        "id": "1915f1f7"
      },
      "source": [
        "View information about the dataset including datatypes and null values"
      ]
    },
    {
      "cell_type": "code",
      "execution_count": 6,
      "id": "c173d066",
      "metadata": {
        "colab": {
          "base_uri": "https://localhost:8080/"
        },
        "id": "c173d066",
        "outputId": "b78e0298-76bf-49c7-8025-53c3a5a981a6"
      },
      "outputs": [
        {
          "name": "stdout",
          "output_type": "stream",
          "text": [
            "<class 'pandas.core.frame.DataFrame'>\n",
            "RangeIndex: 4803 entries, 0 to 4802\n",
            "Data columns (total 20 columns):\n",
            " #   Column                Non-Null Count  Dtype  \n",
            "---  ------                --------------  -----  \n",
            " 0   budget                4803 non-null   int64  \n",
            " 1   genres                4803 non-null   object \n",
            " 2   homepage              1712 non-null   object \n",
            " 3   id                    4803 non-null   int64  \n",
            " 4   keywords              4803 non-null   object \n",
            " 5   original_language     4803 non-null   object \n",
            " 6   original_title        4803 non-null   object \n",
            " 7   overview              4800 non-null   object \n",
            " 8   popularity            4803 non-null   float64\n",
            " 9   production_companies  4803 non-null   object \n",
            " 10  production_countries  4803 non-null   object \n",
            " 11  release_date          4802 non-null   object \n",
            " 12  revenue               4803 non-null   int64  \n",
            " 13  runtime               4801 non-null   float64\n",
            " 14  spoken_languages      4803 non-null   object \n",
            " 15  status                4803 non-null   object \n",
            " 16  tagline               3959 non-null   object \n",
            " 17  title                 4803 non-null   object \n",
            " 18  vote_average          4803 non-null   float64\n",
            " 19  vote_count            4803 non-null   int64  \n",
            "dtypes: float64(3), int64(4), object(13)\n",
            "memory usage: 750.6+ KB\n"
          ]
        }
      ],
      "source": [
        "df.info()"
      ]
    },
    {
      "cell_type": "markdown",
      "id": "4e64a24f",
      "metadata": {
        "id": "4e64a24f"
      },
      "source": [
        "**Q.1.1.2** What columns have null values above? How would you be able to estimate the missing values?\n",
        "\n",
        "> Indented block\n",
        "\n"
      ]
    },
    {
      "cell_type": "markdown",
      "id": "2660fe51",
      "metadata": {
        "id": "2660fe51"
      },
      "source": [
        "We can use the line\n",
        "\n",
        "null_columns = df.columns[df.isnull().any()]\n",
        "\n",
        "What this does is that it gives a list of column names which contain at least one null entry."
      ]
    },
    {
      "cell_type": "markdown",
      "id": "83863820",
      "metadata": {
        "id": "83863820"
      },
      "source": [
        "### Q1.2\n",
        "For this notebook, we're only interested in a few columns, specifically title, overview and genres. Set df to only contain those columns."
      ]
    },
    {
      "cell_type": "code",
      "execution_count": 7,
      "id": "4e3f0439",
      "metadata": {
        "colab": {
          "base_uri": "https://localhost:8080/"
        },
        "id": "4e3f0439",
        "outputId": "f76aa8ee-2376-4af5-ade6-bb979b625fa3"
      },
      "outputs": [
        {
          "name": "stdout",
          "output_type": "stream",
          "text": [
            "<class 'pandas.core.frame.DataFrame'>\n",
            "RangeIndex: 4803 entries, 0 to 4802\n",
            "Data columns (total 3 columns):\n",
            " #   Column    Non-Null Count  Dtype \n",
            "---  ------    --------------  ----- \n",
            " 0   title     4803 non-null   object\n",
            " 1   overview  4800 non-null   object\n",
            " 2   genres    4803 non-null   object\n",
            "dtypes: object(3)\n",
            "memory usage: 112.7+ KB\n"
          ]
        }
      ],
      "source": [
        "df = df[[\"title\", \"overview\", \"genres\"]]\n",
        "df.info() # print out df info to verify"
      ]
    },
    {
      "cell_type": "markdown",
      "id": "b596e86b",
      "metadata": {
        "id": "b596e86b"
      },
      "source": [
        "### Q1.3\n",
        "We see that some movies do not have an overview. Drop them from the table and reset the index (set `drop=True`)."
      ]
    },
    {
      "cell_type": "code",
      "execution_count": 8,
      "id": "a06e4f6a",
      "metadata": {
        "id": "a06e4f6a"
      },
      "outputs": [],
      "source": [
        "df = df.dropna(subset=['overview']) # drop na values\n",
        "df = df.reset_index(drop=True) # reset index"
      ]
    },
    {
      "cell_type": "markdown",
      "id": "759df3a2",
      "metadata": {
        "id": "759df3a2"
      },
      "source": [
        "# Q2 One-hot encodings\n",
        "The following code processes the genres (which you see above are list of dictionaries) and encodes them into one-hot labels.\n",
        "\n",
        "Remember, since we cannot do maths on text strings, we must change these words to numbers. Here, we create one-hot encodings for the genres. Assume we have three genres $[G_1, G_2, G_3]$. If a movie $M_1$ is tagged with genre $G_1$, the encoding is $[1,0,0]$. If another movie $M_2$ is tagged with $G2$, the encoding becomes $[0,1,0]$. Other encodings are possible as well, but one-hot encoding quite common and useful for many other tasks. In this case, if a movie is tagged with more than one genre, we'll just take a random one and encode that into a one-hot label.\n",
        "\n",
        "### Q2.1 Processing genres\n",
        "\n",
        "Finish the following code that processes genres into one-hot encodings."
      ]
    },
    {
      "cell_type": "code",
      "execution_count": 9,
      "id": "dba05feb",
      "metadata": {
        "colab": {
          "base_uri": "https://localhost:8080/"
        },
        "id": "dba05feb",
        "outputId": "c35bd307-09d4-4b66-c0e2-d64d1f08b545"
      },
      "outputs": [
        {
          "name": "stderr",
          "output_type": "stream",
          "text": [
            "100%|██████████| 4800/4800 [00:00<00:00, 15452.32it/s]\n"
          ]
        }
      ],
      "source": [
        "np.random.seed(0)\n",
        "\n",
        "def process_genre_string(gs):\n",
        "    \"\"\" Processes genres into a single item from a list\"\"\"\n",
        "    gs = eval(gs)\n",
        "    gs = [x['name'] for x in gs]\n",
        "    genre = \"Unknown\"\n",
        "    if gs:\n",
        "        genre = np.random.choice(gs) # choose random entry\n",
        "    return genre\n",
        "\n",
        "# TODO: Fill in\n",
        "def encode_labels(label, unique_labels):\n",
        "    \"\"\" Encodes text labels into a one-hot encoded list\n",
        "        with possibly more than one one-hot per list.\n",
        "        :param label: the label you want to one-hot encode\n",
        "        :unique_labels: the vocabulary\n",
        "    \"\"\"\n",
        "    out = np.zeros(len(unique_labels))\n",
        "    for i, unique_label in enumerate(unique_labels):\n",
        "        if unique_label in label:\n",
        "            out[i] = 1\n",
        "    return out\n",
        "\n",
        "# save genres\n",
        "processed_genres = []\n",
        "for index, row in df.iterrows():\n",
        "    processed_genres.append(process_genre_string(row[\"genres\"]))\n",
        "\n",
        "# sort and remove duplicates to get vocabulary\n",
        "unique_genres = sorted(list(set(processed_genres)))\n",
        "\n",
        "# add to dataframe as new column\n",
        "df[\"proc_genres\"] = processed_genres\n",
        "\n",
        "# one-hot encode genres\n",
        "encoded_labels = []\n",
        "for index, row in tqdm(df.iterrows(), total=len(df)):\n",
        "    encoded_labels.append(encode_labels(row[\"proc_genres\"], unique_genres))\n",
        "\n",
        "df[\"one_hot_genres\"] = encoded_labels"
      ]
    },
    {
      "cell_type": "markdown",
      "id": "d17501a9",
      "metadata": {
        "id": "d17501a9"
      },
      "source": [
        "Verify that one-hot encodings are indeed as expected"
      ]
    },
    {
      "cell_type": "code",
      "execution_count": 10,
      "id": "3b64854b",
      "metadata": {
        "colab": {
          "base_uri": "https://localhost:8080/"
        },
        "id": "3b64854b",
        "outputId": "6a7b8710-51f5-4ade-e511-fe2d529ca701"
      },
      "outputs": [
        {
          "data": {
            "text/plain": [
              "array([1., 0., 0., 0., 0., 0., 0., 0., 0., 0., 0., 0., 0., 0., 0., 0., 0.,\n",
              "       0., 0., 0., 0.])"
            ]
          },
          "execution_count": 10,
          "metadata": {},
          "output_type": "execute_result"
        }
      ],
      "source": [
        "df[\"one_hot_genres\"][0]"
      ]
    },
    {
      "cell_type": "markdown",
      "id": "b0a83ece",
      "metadata": {
        "id": "b0a83ece"
      },
      "source": [
        "### Q2.2 Processing Overviews\n",
        "Next, we process the overviews. First, we remove all punctuation for the sake of simplicity and change each overview to use only lowercase. Then we need to see how long the overviews are in terms of numbers of words. We can do this with a histogram.\n",
        "\n",
        "**Q2.2.1** Finish the following code"
      ]
    },
    {
      "cell_type": "code",
      "execution_count": 11,
      "id": "bfd51c53",
      "metadata": {
        "colab": {
          "base_uri": "https://localhost:8080/",
          "height": 472
        },
        "id": "bfd51c53",
        "outputId": "450f7b21-c55b-4fd1-a31d-ec03bf0173f1"
      },
      "outputs": [
        {
          "data": {
            "image/png": "[encoded data removed]",
            "text/plain": [
              "<Figure size 640x480 with 1 Axes>"
            ]
          },
          "metadata": {},
          "output_type": "display_data"
        }
      ],
      "source": [
        "import re\n",
        "import matplotlib.pyplot as plt\n",
        "\n",
        "def remove_punctuation(text):\n",
        "    \"\"\" Only retains letters, numbers, underscores and whitespace \"\"\"\n",
        "    pattern = r'[^\\w\\s]'\n",
        "    return re.sub(pattern, '', text)\n",
        "\n",
        "processed_overviews = []\n",
        "\n",
        "# loop over df, remove punctuation, make words lowercase and add it to a new column\n",
        "for index, row in df.iterrows():\n",
        "    processed_overview = remove_punctuation(row[\"overview\"]).lower()\n",
        "    processed_overviews.append(processed_overview)\n",
        "\n",
        "df[\"proc_overview\"] = processed_overviews\n",
        "\n",
        "# get the word lengths of each overview and store it in a list\n",
        "overview_lens = [len(overview.split()) for overview in df[\"proc_overview\"]]\n",
        "\n",
        "# for the sake of simplicity, add these values as a column to the df\n",
        "df[\"overview_len\"] = overview_lens\n",
        "plt.hist(overview_lens)\n",
        "plt.xlabel('Overview Length')\n",
        "plt.ylabel('Frequency')\n",
        "plt.title('Distribution of Overview Lengths')\n",
        "plt.show()\n"
      ]
    },
    {
      "cell_type": "markdown",
      "id": "58138594",
      "metadata": {
        "id": "58138594"
      },
      "source": [
        "**Q2.2.2** What is the shortest overview? What is the longest? In the next step, we need to decide on a standard length of all overviews -- this means dropping overviews less than some value, and truncating longer ones. What length would you choose to minimize the number of movies dropped and maximize the information (words) stored in the overviews?"
      ]
    },
    {
      "cell_type": "markdown",
      "id": "3b87f1af",
      "metadata": {
        "id": "3b87f1af"
      },
      "source": [
        "Shortest overview has length 0 and the longest 175. I think the standard length should be 25 because this has the most frequency."
      ]
    },
    {
      "cell_type": "markdown",
      "id": "54e6cb90",
      "metadata": {
        "id": "54e6cb90"
      },
      "source": [
        "### Q2.2.3\n",
        "Let's choose overviews of length 15 words. What this means is we need to discard movies that have overviews less than 15 (there are other ways of dealing with it, but this should be fine for now) and truncate the higher ones to the first 15 words."
      ]
    },
    {
      "cell_type": "code",
      "execution_count": 12,
      "id": "70854211",
      "metadata": {
        "colab": {
          "base_uri": "https://localhost:8080/"
        },
        "id": "70854211",
        "outputId": "8f0c0646-e5b4-4694-9966-d41b57cd267e"
      },
      "outputs": [
        {
          "name": "stdout",
          "output_type": "stream",
          "text": [
            "                                         title  \\\n",
            "0                                       Avatar   \n",
            "1     Pirates of the Caribbean: At World's End   \n",
            "2                                      Spectre   \n",
            "3                        The Dark Knight Rises   \n",
            "4                                  John Carter   \n",
            "...                                        ...   \n",
            "4794                                    Cavite   \n",
            "4795                               El Mariachi   \n",
            "4797                 Signed, Sealed, Delivered   \n",
            "4798                          Shanghai Calling   \n",
            "4799                         My Date with Drew   \n",
            "\n",
            "                                               overview  \\\n",
            "0     In the 22nd century, a paraplegic Marine is di...   \n",
            "1     Captain Barbossa, long believed to be dead, ha...   \n",
            "2     A cryptic message from Bond’s past sends him o...   \n",
            "3     Following the death of District Attorney Harve...   \n",
            "4     John Carter is a war-weary, former military ca...   \n",
            "...                                                 ...   \n",
            "4794  Adam, a security guard, travels from Californi...   \n",
            "4795  El Mariachi just wants to play his guitar and ...   \n",
            "4797  \"Signed, Sealed, Delivered\" introduces a dedic...   \n",
            "4798  When ambitious New York attorney Sam is sent t...   \n",
            "4799  Ever since the second grade when he first saw ...   \n",
            "\n",
            "                                                 genres  proc_genres  \\\n",
            "0     [{\"id\": 28, \"name\": \"Action\"}, {\"id\": 12, \"nam...       Action   \n",
            "1     [{\"id\": 12, \"name\": \"Adventure\"}, {\"id\": 14, \"...      Fantasy   \n",
            "2     [{\"id\": 28, \"name\": \"Action\"}, {\"id\": 12, \"nam...       Action   \n",
            "3     [{\"id\": 28, \"name\": \"Action\"}, {\"id\": 80, \"nam...     Thriller   \n",
            "4     [{\"id\": 28, \"name\": \"Action\"}, {\"id\": 12, \"nam...    Adventure   \n",
            "...                                                 ...          ...   \n",
            "4794  [{\"id\": 10769, \"name\": \"Foreign\"}, {\"id\": 53, ...     Thriller   \n",
            "4795  [{\"id\": 28, \"name\": \"Action\"}, {\"id\": 80, \"nam...        Crime   \n",
            "4797  [{\"id\": 35, \"name\": \"Comedy\"}, {\"id\": 18, \"nam...     TV Movie   \n",
            "4798                                                 []      Unknown   \n",
            "4799                [{\"id\": 99, \"name\": \"Documentary\"}]  Documentary   \n",
            "\n",
            "                                         one_hot_genres  \\\n",
            "0     [1.0, 0.0, 0.0, 0.0, 0.0, 0.0, 0.0, 0.0, 0.0, ...   \n",
            "1     [0.0, 0.0, 0.0, 0.0, 0.0, 0.0, 0.0, 0.0, 1.0, ...   \n",
            "2     [1.0, 0.0, 0.0, 0.0, 0.0, 0.0, 0.0, 0.0, 0.0, ...   \n",
            "3     [0.0, 0.0, 0.0, 0.0, 0.0, 0.0, 0.0, 0.0, 0.0, ...   \n",
            "4     [0.0, 1.0, 0.0, 0.0, 0.0, 0.0, 0.0, 0.0, 0.0, ...   \n",
            "...                                                 ...   \n",
            "4794  [0.0, 0.0, 0.0, 0.0, 0.0, 0.0, 0.0, 0.0, 0.0, ...   \n",
            "4795  [0.0, 0.0, 0.0, 0.0, 1.0, 0.0, 0.0, 0.0, 0.0, ...   \n",
            "4797  [0.0, 0.0, 0.0, 0.0, 0.0, 0.0, 0.0, 0.0, 0.0, ...   \n",
            "4798  [0.0, 0.0, 0.0, 0.0, 0.0, 0.0, 0.0, 0.0, 0.0, ...   \n",
            "4799  [0.0, 0.0, 0.0, 0.0, 0.0, 1.0, 0.0, 0.0, 0.0, ...   \n",
            "\n",
            "                                          proc_overview  overview_len  \n",
            "0     in the 22nd century a paraplegic marine is dis...            28  \n",
            "1     captain barbossa long believed to be dead has ...            34  \n",
            "2     a cryptic message from bonds past sends him on...            41  \n",
            "3     following the death of district attorney harve...            65  \n",
            "4     john carter is a warweary former military capt...            55  \n",
            "...                                                 ...           ...  \n",
            "4794  adam a security guard travels from california ...           115  \n",
            "4795  el mariachi just wants to play his guitar and ...            62  \n",
            "4797  signed sealed delivered introduces a dedicated...            73  \n",
            "4798  when ambitious new york attorney sam is sent t...            65  \n",
            "4799  ever since the second grade when he first saw ...            62  \n",
            "\n",
            "[4707 rows x 7 columns]\n"
          ]
        }
      ],
      "source": [
        "token_len = 15  # number of words\n",
        "\n",
        "# only select rows where overview len is more than or equal to token_len\n",
        "df = df[df[\"overview_len\"] >= token_len]\n",
        "\n",
        "# split each proc_overview into a list of words, select the first token_len words,\n",
        "# and add the list of words back into df[\"proc_overview\"]\n",
        "df[\"proc_overview\"] = df[\"proc_overview\"].apply(lambda x: x.split()[:token_len])\n",
        "\n",
        "# Join the list of words back into a string\n",
        "df[\"proc_overview\"] = df[\"proc_overview\"].apply(lambda x: ' '.join(x))\n",
        "\n",
        "# print to verify\n",
        "print(df)\n"
      ]
    },
    {
      "cell_type": "markdown",
      "id": "26e092dd",
      "metadata": {
        "id": "26e092dd"
      },
      "source": [
        "### Q2.2.3 Finding the vocabulary length\n",
        "\n",
        "In order to one-hot encode words, we need to find how many words there are in total, just like in the case of genres. Get all the words, remove duplicates, and sort. Find and print the length of your vocabulary."
      ]
    },
    {
      "cell_type": "code",
      "execution_count": 13,
      "id": "a71a750b",
      "metadata": {
        "colab": {
          "base_uri": "https://localhost:8080/"
        },
        "id": "a71a750b",
        "outputId": "96e7c773-1bbc-4e25-bdde-f77e7d3056af"
      },
      "outputs": [
        {
          "name": "stdout",
          "output_type": "stream",
          "text": [
            "Length of the vocabulary: 12493\n"
          ]
        }
      ],
      "source": [
        "# Store all words for all movies in a set\n",
        "all_words_set = set()\n",
        "\n",
        "# Iterate through each overview and add words to the set\n",
        "for overview in df[\"proc_overview\"]:\n",
        "    words = overview.split()\n",
        "    all_words_set.update(words)\n",
        "\n",
        "# Convert the set to a list and sort it\n",
        "all_words_list = sorted(list(all_words_set))\n",
        "\n",
        "# Find the length of the vocabulary\n",
        "vocab_len = len(all_words_list)\n",
        "\n",
        "# Print the length of the vocabulary\n",
        "print(\"Length of the vocabulary:\", vocab_len)\n"
      ]
    },
    {
      "cell_type": "markdown",
      "id": "f276b825",
      "metadata": {
        "id": "f276b825"
      },
      "source": [
        "### Q2.2.4 Encoding the labels\n",
        "\n",
        "In the case of genres, we one-hot encoded the outputs by taking a single random genre. However, an alternative method is to add up the one-hot encodings to form some kind of histogram. For example, if we have an overview \"a brown dog\", and our vocab is \\[a brown, big, cabbage, dog, goat, cow, turkey\\], the one-hot vector would be \\[1,1,0,0,1,0,0,0\\]. If our overview is \"a big brown dog\", the one-hot vector would be \\[1,1,1,0,1,0,0,0\\]. If our overview is \"a big big brown dog\", the one-hot vector would be \\[1,1,2,0,1,0,0,0\\]. You can use the `encode_labels` function that you defined earlier."
      ]
    },
    {
      "cell_type": "code",
      "execution_count": 14,
      "id": "d212192f",
      "metadata": {
        "colab": {
          "base_uri": "https://localhost:8080/"
        },
        "id": "d212192f",
        "outputId": "914cb3dd-553f-4f98-cf7b-663616f9326a"
      },
      "outputs": [
        {
          "name": "stderr",
          "output_type": "stream",
          "text": [
            "100%|██████████| 4707/4707 [05:33<00:00, 14.12it/s]"
          ]
        },
        {
          "name": "stdout",
          "output_type": "stream",
          "text": [
            "0       [0.0, 0.0, 0.0, 0.0, 0.0, 0.0, 0.0, 0.0, 0.0, ...\n",
            "1       [0.0, 0.0, 0.0, 0.0, 0.0, 0.0, 0.0, 0.0, 0.0, ...\n",
            "2       [0.0, 0.0, 0.0, 0.0, 0.0, 0.0, 0.0, 0.0, 0.0, ...\n",
            "3       [0.0, 0.0, 0.0, 0.0, 0.0, 0.0, 0.0, 0.0, 0.0, ...\n",
            "4       [0.0, 0.0, 0.0, 0.0, 0.0, 0.0, 0.0, 0.0, 0.0, ...\n",
            "                              ...                        \n",
            "4794    [0.0, 0.0, 0.0, 0.0, 0.0, 0.0, 0.0, 0.0, 0.0, ...\n",
            "4795    [0.0, 0.0, 0.0, 0.0, 0.0, 0.0, 0.0, 0.0, 0.0, ...\n",
            "4797    [0.0, 0.0, 0.0, 0.0, 0.0, 0.0, 0.0, 0.0, 0.0, ...\n",
            "4798    [0.0, 0.0, 0.0, 0.0, 0.0, 0.0, 0.0, 0.0, 0.0, ...\n",
            "4799    [0.0, 0.0, 0.0, 0.0, 0.0, 0.0, 0.0, 0.0, 0.0, ...\n",
            "Name: one_hot_overview, Length: 4707, dtype: object\n"
          ]
        },
        {
          "name": "stderr",
          "output_type": "stream",
          "text": [
            "\n"
          ]
        }
      ],
      "source": [
        "encoded_labels = []\n",
        "for index, row in tqdm(df.iterrows(), total=len(df)):\n",
        "    sentence_encode = []  # set of encodings for this overview\n",
        "    for word in row[\"proc_overview\"]:\n",
        "        sentence_encode.append(encode_labels(word, all_words_list))  # get encoding for this word\n",
        "    sentence_encode = np.sum(sentence_encode, axis=0)  # sum over axis=0\n",
        "    encoded_labels.append(sentence_encode)\n",
        "\n",
        "df[\"one_hot_overview\"] = encoded_labels\n",
        "print(df['one_hot_overview'])  # print to verify\n"
      ]
    },
    {
      "cell_type": "markdown",
      "id": "7c62e127",
      "metadata": {
        "id": "7c62e127"
      },
      "source": [
        "**Q2.2.5** Each vector is a vector of floating point (64-bit) numbers. Assuming each float takes up exactly 16-bytes, how many bytes does this take to store (theoretically)?"
      ]
    },
    {
      "cell_type": "markdown",
      "id": "193b8235",
      "metadata": {
        "id": "193b8235"
      },
      "source": [
        "Total bytes = Number of vectors * Length of each vector * Size of each float\n",
        "= n * vocab_len * 16 bytes\n"
      ]
    },
    {
      "cell_type": "markdown",
      "id": "1f3b3700",
      "metadata": {
        "id": "1f3b3700"
      },
      "source": [
        "# Q3 Principal Component Analysis\n",
        "\n",
        "**Q3.1** Using the overview encoded into one-hot encodings, perform PCA and plot this into a 2-D image as a scatter plot."
      ]
    },
    {
      "cell_type": "code",
      "execution_count": 15,
      "id": "LkHEeMGPkPu1",
      "metadata": {
        "colab": {
          "base_uri": "https://localhost:8080/",
          "height": 718
        },
        "id": "LkHEeMGPkPu1",
        "outputId": "a536d4b3-524a-4d1f-f201-8b3356350810"
      },
      "outputs": [
        {
          "data": {
            "image/png": "[encoded data removed]",
            "text/plain": [
              "<Figure size 1000x800 with 1 Axes>"
            ]
          },
          "metadata": {},
          "output_type": "display_data"
        }
      ],
      "source": [
        "import numpy as np\n",
        "import matplotlib.pyplot as plt\n",
        "from sklearn.decomposition import PCA\n",
        "\n",
        "# Assuming df is your DataFrame with the \"one_hot_overview\" column containing one-hot encodings\n",
        "\n",
        "# Convert the list of one-hot encodings into a 2D numpy array\n",
        "one_hot_encodings = np.array(df[\"one_hot_overview\"].tolist())\n",
        "\n",
        "# Initialize PCA with 2 components\n",
        "pca = PCA(n_components=2)\n",
        "\n",
        "# Fit PCA on the one-hot encodings\n",
        "pca_result = pca.fit_transform(one_hot_encodings)\n",
        "\n",
        "# Plot PCA result\n",
        "plt.figure(figsize=(10, 8))\n",
        "plt.scatter(pca_result[:, 0], pca_result[:, 1])\n",
        "plt.title('PCA of Overview One-Hot Encodings')\n",
        "plt.xlabel('Principal Component 1')\n",
        "plt.ylabel('Principal Component 2')\n",
        "plt.grid(True)\n",
        "plt.show()\n"
      ]
    },
    {
      "cell_type": "markdown",
      "id": "a63054b6",
      "metadata": {
        "id": "a63054b6"
      },
      "source": [
        "**Q3.2** Do you see any interpretable structure in the above plot (\"interpretable\" $\\rightarrow$ the patterns are explainable)."
      ]
    },
    {
      "cell_type": "markdown",
      "id": "a9409e7b",
      "metadata": {
        "id": "a9409e7b"
      },
      "source": [
        "Concentrated around (0,0) and no visible correlation."
      ]
    },
    {
      "cell_type": "markdown",
      "id": "4482c5e5",
      "metadata": {
        "id": "4482c5e5"
      },
      "source": [
        "**Q3.3** Quantify how much variance information a 2D PCA projection loses for this dataset."
      ]
    },
    {
      "cell_type": "markdown",
      "id": "2338a25d",
      "metadata": {
        "id": "2338a25d"
      },
      "source": [
        "*Your answer here*"
      ]
    },
    {
      "cell_type": "markdown",
      "id": "7da99ba5",
      "metadata": {
        "id": "7da99ba5"
      },
      "source": [
        "**Q3.4** Plot a line graph where the y-axis is cumulative explained variance ratio and the x-axis is the number of PCA components."
      ]
    },
    {
      "cell_type": "code",
      "execution_count": 16,
      "id": "e0cac8ff",
      "metadata": {
        "colab": {
          "base_uri": "https://localhost:8080/",
          "height": 472
        },
        "id": "e0cac8ff",
        "outputId": "d7f4e37c-6a84-42f3-8cfb-400c530a2071",
        "scrolled": false
      },
      "outputs": [
        {
          "data": {
            "image/png": "[encoded data removed]",
            "text/plain": [
              "<Figure size 640x480 with 1 Axes>"
            ]
          },
          "metadata": {},
          "output_type": "display_data"
        }
      ],
      "source": [
        "import matplotlib.pyplot as plt\n",
        "from sklearn.decomposition import PCA\n",
        "\n",
        "# Assuming df is your DataFrame with the \"one_hot_overview\" column containing one-hot encodings\n",
        "\n",
        "# Convert the list of one-hot encodings into a 2D numpy array\n",
        "one_hot_encodings = np.array(df[\"one_hot_overview\"].tolist())\n",
        "\n",
        "# Determine the number of features (number of unique words)\n",
        "n_features = one_hot_encodings.shape[1]\n",
        "\n",
        "# Choose a smaller number of components (e.g., 100)\n",
        "n_components = 100\n",
        "\n",
        "# Initialize PCA with the desired number of components\n",
        "pca = PCA(n_components=n_components)\n",
        "\n",
        "# Fit PCA on the one-hot encodings and transform the data\n",
        "labels_pca = pca.fit_transform(one_hot_encodings)\n",
        "\n",
        "# Get explained variance ratio from PCA object\n",
        "explained_variance_ratio = pca.explained_variance_ratio_\n",
        "\n",
        "# Calculate cumulative explained variance ratio\n",
        "cumulative_variance_ratio = np.cumsum(explained_variance_ratio)\n",
        "\n",
        "# Plot the cumulative explained variance ratio\n",
        "plt.plot(range(1, len(cumulative_variance_ratio) + 1), cumulative_variance_ratio, marker='o')\n",
        "plt.xlabel('Number of PCA Components')\n",
        "plt.ylabel('Cumulative Explained Variance Ratio')\n",
        "plt.title('Cumulative Explained Variance Ratio vs Number of PCA Components')\n",
        "plt.grid(True)\n",
        "plt.show()\n"
      ]
    },
    {
      "cell_type": "markdown",
      "id": "8b36c9b2",
      "metadata": {
        "id": "8b36c9b2"
      },
      "source": [
        "**Q3.5** How many principal components do you need in order to explain 80% of the total variance in the data?\n",
        "\n",
        "Note: don't just estimate it by eye, write some code to compute it for you."
      ]
    },
    {
      "cell_type": "code",
      "execution_count": 17,
      "id": "LeAXh0D8sbry",
      "metadata": {
        "id": "LeAXh0D8sbry"
      },
      "outputs": [
        {
          "name": "stdout",
          "output_type": "stream",
          "text": [
            "Number of principal components to explain 80% of the variance: 11\n"
          ]
        }
      ],
      "source": [
        "import numpy as np\n",
        "from sklearn.decomposition import PCA\n",
        "\n",
        "# Assuming df is your DataFrame with the \"one_hot_overview\" column containing one-hot encodings\n",
        "\n",
        "# Convert the list of one-hot encodings into a 2D numpy array\n",
        "one_hot_encodings = np.array(df[\"one_hot_overview\"].tolist())\n",
        "\n",
        "# Initialize PCA with the maximum number of components\n",
        "pca = PCA()\n",
        "\n",
        "# Fit PCA on the one-hot encodings\n",
        "pca.fit(one_hot_encodings)\n",
        "\n",
        "# Get explained variance ratio from PCA object\n",
        "explained_variance_ratio = pca.explained_variance_ratio_\n",
        "\n",
        "# Calculate cumulative explained variance ratio\n",
        "cumulative_variance_ratio = np.cumsum(explained_variance_ratio)\n",
        "\n",
        "# Find the number of components needed to explain 80% of the total variance\n",
        "n_components_80 = np.argmax(cumulative_variance_ratio >= 0.8) + 1\n",
        "\n",
        "print(\"Number of principal components to explain 80% of the variance:\", n_components_80)\n",
        "\n",
        "# Code doesnt run for some reason but I would select 15 PC's"
      ]
    },
    {
      "cell_type": "markdown",
      "id": "b608db91",
      "metadata": {
        "id": "b608db91"
      },
      "source": [
        "Code doesnt run for some reason but I would select 15 PC's"
      ]
    },
    {
      "cell_type": "markdown",
      "id": "ee3b5c33",
      "metadata": {
        "id": "ee3b5c33"
      },
      "source": [
        "**Q3.6** Using the number of dimensions you found in Q3.5, fit and transform your overview encodings using PCA and add it to a new column called `overview_pca` in the dataframe."
      ]
    },
    {
      "cell_type": "code",
      "execution_count": 18,
      "id": "8a6eb40b",
      "metadata": {
        "id": "8a6eb40b"
      },
      "outputs": [
        {
          "name": "stdout",
          "output_type": "stream",
          "text": [
            "0       [-2.7265145447805113, 1.244661199423247, -2.00...\n",
            "1       [-1.7737881462859417, -0.4245491539637156, -3....\n",
            "2       [-2.7692892541471106, 0.43209246922003247, 0.8...\n",
            "3       [3.158470710557014, 1.5296330652756713, 3.2697...\n",
            "4       [1.1273778302052926, 3.8160055040268386, -1.36...\n",
            "                              ...                        \n",
            "4794    [-2.6593567243740903, 3.2724187079443405, 0.98...\n",
            "4795    [-3.696921446248254, 3.3029479858836583, -0.35...\n",
            "4797    [7.7872555581301475, 1.3482288447608934, 0.608...\n",
            "4798    [0.485484961304502, 2.1026069976884934, 3.7862...\n",
            "4799    [6.81280725181506, -1.6629293762727064, -0.134...\n",
            "Name: overview_pca, Length: 4707, dtype: object\n"
          ]
        }
      ],
      "source": [
        "from sklearn.decomposition import PCA\n",
        "\n",
        "# n_dims is the number of principal components needed to explain 80% of the total variance, as calculated in Q3.5\n",
        "n_dims = 3\n",
        "# Initialize PCA with the number of dimensions found\n",
        "pca = PCA(n_components=n_dims)\n",
        "\n",
        "# Fit PCA on the one-hot encodings and transform the data\n",
        "overview_pca = pca.fit_transform(one_hot_encodings)\n",
        "\n",
        "# Add the PCA-transformed overview encodings to a new column called \"overview_pca\" in the DataFrame\n",
        "df[\"overview_pca\"] = list(overview_pca)\n",
        "\n",
        "# Print to verify\n",
        "print(df[\"overview_pca\"])\n"
      ]
    },
    {
      "cell_type": "markdown",
      "id": "309d3256",
      "metadata": {
        "id": "309d3256"
      },
      "source": [
        "# Q4 K-Means Clustering\n",
        "\n",
        "**Q4.1** Cluster the movies based on the features that were extracted via PCA in the last step. Set $K=20$. Add the predicted cluster into the dataframe as a new column called `cluster_kmeans`. Print out the elements of cluster number 0 from the dataframe."
      ]
    },
    {
      "cell_type": "code",
      "execution_count": 19,
      "id": "f5f5781e",
      "metadata": {
        "id": "f5f5781e"
      },
      "outputs": [
        {
          "name": "stdout",
          "output_type": "stream",
          "text": [
            "                                         title  \\\n",
            "1     Pirates of the Caribbean: At World's End   \n",
            "31                                  Iron Man 3   \n",
            "54                           The Good Dinosaur   \n",
            "106                            Shrek the Third   \n",
            "146         Madagascar 3: Europe's Most Wanted   \n",
            "...                                        ...   \n",
            "4702                          The Woman Chaser   \n",
            "4725              The Lost Skeleton of Cadavra   \n",
            "4765                        The Exploding Girl   \n",
            "4783                          Breaking Upwards   \n",
            "4791              Sanctuary: Quite a Conundrum   \n",
            "\n",
            "                                               overview  \\\n",
            "1     Captain Barbossa, long believed to be dead, ha...   \n",
            "31    When Tony Stark's world is torn apart by a for...   \n",
            "54    An epic journey into the world of dinosaurs wh...   \n",
            "106   The King of Far Far Away has died and Shrek an...   \n",
            "146   Alex, Marty, Gloria and Melman are still tryin...   \n",
            "...                                                 ...   \n",
            "4702  A 1950s used-car salesman (Patrick Warburton) ...   \n",
            "4725  Remember the good old days when anyone with a ...   \n",
            "4765  On a summer break from college, Ivy, a young e...   \n",
            "4783  'Breaking Upwards' explores a young, real-life...   \n",
            "4791  It should have been just a normal day of sex, ...   \n",
            "\n",
            "                                                 genres      proc_genres  \\\n",
            "1     [{\"id\": 12, \"name\": \"Adventure\"}, {\"id\": 14, \"...          Fantasy   \n",
            "31    [{\"id\": 28, \"name\": \"Action\"}, {\"id\": 12, \"nam...           Action   \n",
            "54    [{\"id\": 12, \"name\": \"Adventure\"}, {\"id\": 16, \"...        Animation   \n",
            "106   [{\"id\": 14, \"name\": \"Fantasy\"}, {\"id\": 12, \"na...          Fantasy   \n",
            "146   [{\"id\": 16, \"name\": \"Animation\"}, {\"id\": 10751...        Animation   \n",
            "...                                                 ...              ...   \n",
            "4702                      [{\"id\": 18, \"name\": \"Drama\"}]            Drama   \n",
            "4725  [{\"id\": 35, \"name\": \"Comedy\"}, {\"id\": 27, \"nam...  Science Fiction   \n",
            "4765  [{\"id\": 18, \"name\": \"Drama\"}, {\"id\": 10749, \"n...          Romance   \n",
            "4783  [{\"id\": 35, \"name\": \"Comedy\"}, {\"id\": 10749, \"...           Comedy   \n",
            "4791  [{\"id\": 53, \"name\": \"Thriller\"}, {\"id\": 27, \"n...           Horror   \n",
            "\n",
            "                                         one_hot_genres  \\\n",
            "1     [0.0, 0.0, 0.0, 0.0, 0.0, 0.0, 0.0, 0.0, 1.0, ...   \n",
            "31    [1.0, 0.0, 0.0, 0.0, 0.0, 0.0, 0.0, 0.0, 0.0, ...   \n",
            "54    [0.0, 0.0, 1.0, 0.0, 0.0, 0.0, 0.0, 0.0, 0.0, ...   \n",
            "106   [0.0, 0.0, 0.0, 0.0, 0.0, 0.0, 0.0, 0.0, 1.0, ...   \n",
            "146   [0.0, 0.0, 1.0, 0.0, 0.0, 0.0, 0.0, 0.0, 0.0, ...   \n",
            "...                                                 ...   \n",
            "4702  [0.0, 0.0, 0.0, 0.0, 0.0, 0.0, 1.0, 0.0, 0.0, ...   \n",
            "4725  [0.0, 0.0, 0.0, 0.0, 0.0, 0.0, 0.0, 0.0, 0.0, ...   \n",
            "4765  [0.0, 0.0, 0.0, 0.0, 0.0, 0.0, 0.0, 0.0, 0.0, ...   \n",
            "4783  [0.0, 0.0, 0.0, 1.0, 0.0, 0.0, 0.0, 0.0, 0.0, ...   \n",
            "4791  [0.0, 0.0, 0.0, 0.0, 0.0, 0.0, 0.0, 0.0, 0.0, ...   \n",
            "\n",
            "                                          proc_overview  overview_len  \\\n",
            "1     captain barbossa long believed to be dead has ...            34   \n",
            "31    when tony starks world is torn apart by a form...            22   \n",
            "54    an epic journey into the world of dinosaurs wh...            18   \n",
            "106   the king of far far away has died and shrek an...            56   \n",
            "146   alex marty gloria and melman are still trying ...           140   \n",
            "...                                                 ...           ...   \n",
            "4702  a 1950s usedcar salesman patrick warburton wan...            21   \n",
            "4725  remember the good old days when anyone with a ...            59   \n",
            "4765  on a summer break from college ivy a young epi...            30   \n",
            "4783  breaking upwards explores a young reallife new...            96   \n",
            "4791  it should have been just a normal day of sex f...            40   \n",
            "\n",
            "                                       one_hot_overview  \\\n",
            "1     [0.0, 0.0, 0.0, 0.0, 0.0, 0.0, 0.0, 0.0, 0.0, ...   \n",
            "31    [0.0, 0.0, 0.0, 0.0, 0.0, 0.0, 0.0, 0.0, 0.0, ...   \n",
            "54    [0.0, 0.0, 0.0, 0.0, 0.0, 0.0, 0.0, 0.0, 0.0, ...   \n",
            "106   [0.0, 0.0, 0.0, 0.0, 0.0, 0.0, 0.0, 0.0, 0.0, ...   \n",
            "146   [0.0, 0.0, 0.0, 0.0, 0.0, 0.0, 0.0, 0.0, 0.0, ...   \n",
            "...                                                 ...   \n",
            "4702  [0.0, 0.0, 1.0, 0.0, 0.0, 0.0, 0.0, 0.0, 0.0, ...   \n",
            "4725  [0.0, 0.0, 0.0, 0.0, 0.0, 0.0, 0.0, 0.0, 0.0, ...   \n",
            "4765  [0.0, 0.0, 0.0, 0.0, 0.0, 0.0, 0.0, 0.0, 0.0, ...   \n",
            "4783  [0.0, 0.0, 0.0, 0.0, 0.0, 0.0, 0.0, 0.0, 0.0, ...   \n",
            "4791  [0.0, 0.0, 0.0, 0.0, 0.0, 0.0, 0.0, 0.0, 0.0, ...   \n",
            "\n",
            "                                           overview_pca  cluster_kmeans  \n",
            "1     [-1.7737881462859417, -0.4245491539637156, -3....               0  \n",
            "31    [-0.3616337294094817, 0.7499080853352995, -2.6...               0  \n",
            "54    [-1.9568261771314295, 1.895060279684576, -4.38...               0  \n",
            "106   [-4.187587854866605, -1.4855375483051545, -4.7...               0  \n",
            "146   [-2.8810979830295547, -0.527647939852577, -2.5...               0  \n",
            "...                                                 ...             ...  \n",
            "4702  [-2.6816553698843513, 0.8820457983335137, -4.6...               0  \n",
            "4725  [-1.962540035693392, -2.2362293419065242, -4.6...               0  \n",
            "4765  [-0.7680341835561127, -1.1332581604150536, -2....               0  \n",
            "4783  [-1.401911129102085, 0.6416421116786227, -3.48...               0  \n",
            "4791  [-2.7145786703488732, -2.4742956071916518, -3....               0  \n",
            "\n",
            "[204 rows x 10 columns]\n"
          ]
        }
      ],
      "source": [
        "from sklearn.cluster import KMeans\n",
        "\n",
        "# Assuming df is your DataFrame with the \"overview_pca\" column containing PCA features\n",
        "\n",
        "# Perform K-means clustering\n",
        "kmeans = KMeans(n_clusters=20, random_state=42)\n",
        "\n",
        "# Fit KMeans model\n",
        "kmeans.fit(df[\"overview_pca\"].tolist())\n",
        "\n",
        "# Get predictions\n",
        "y_preds = kmeans.predict(df[\"overview_pca\"].tolist())\n",
        "\n",
        "# Add predicted cluster into the dataframe as a new column called \"cluster_kmeans\"\n",
        "df[\"cluster_kmeans\"] = y_preds\n",
        "\n",
        "# Print out elements of cluster 0\n",
        "cluster_0_df = df[df[\"cluster_kmeans\"] == 0]\n",
        "print(cluster_0_df)\n"
      ]
    },
    {
      "cell_type": "markdown",
      "id": "34334c6c",
      "metadata": {
        "id": "34334c6c"
      },
      "source": [
        "**Q4.2** Does this clustering seem alright to you (based on your movie watching history)? Are there movies that go well together and movies that don't?"
      ]
    },
    {
      "cell_type": "markdown",
      "id": "9f1d40cc",
      "metadata": {
        "id": "9f1d40cc"
      },
      "source": [
        "*Your text answer here*"
      ]
    },
    {
      "cell_type": "markdown",
      "id": "0407f9e4",
      "metadata": {
        "id": "0407f9e4"
      },
      "source": [
        "**Q4.3** Now, we'll figure out whether using the elbow method is right for this dataset. Plot a loss (using `kmeans.inertia_`) versus cluster size plot. Is there an elbow that you see clearly? What cluster size would you choose?"
      ]
    },
    {
      "cell_type": "markdown",
      "id": "4984dcd9",
      "metadata": {
        "id": "4984dcd9"
      },
      "source": [
        "*Your text answer here*"
      ]
    },
    {
      "cell_type": "code",
      "execution_count": 20,
      "id": "cb3a37ee",
      "metadata": {
        "id": "cb3a37ee"
      },
      "outputs": [
        {
          "data": {
            "image/png": "[encoded data removed]",
            "text/plain": [
              "<Figure size 640x480 with 1 Axes>"
            ]
          },
          "metadata": {},
          "output_type": "display_data"
        }
      ],
      "source": [
        "import matplotlib.pyplot as plt\n",
        "\n",
        "# Initialize lists to store inertia values for different cluster sizes\n",
        "inertia_values = []\n",
        "\n",
        "# Define a range of cluster sizes to try\n",
        "cluster_sizes = range(1, 21)\n",
        "\n",
        "# Perform K-means clustering for each cluster size and store the inertia\n",
        "for k in cluster_sizes:\n",
        "    kmeans = KMeans(n_clusters=k, random_state=42)\n",
        "    kmeans.fit(df[\"overview_pca\"].tolist())\n",
        "    inertia_values.append(kmeans.inertia_)\n",
        "\n",
        "# Plot the inertia versus cluster size\n",
        "plt.plot(cluster_sizes, inertia_values, marker='o')\n",
        "plt.xlabel('Number of Clusters')\n",
        "plt.ylabel('Inertia')\n",
        "plt.title('Inertia versus Cluster Size')\n",
        "plt.grid(True)\n",
        "plt.show()\n"
      ]
    },
    {
      "cell_type": "markdown",
      "id": "3e89e224",
      "metadata": {
        "id": "3e89e224"
      },
      "source": [
        "# Q5 Gaussian Mixture Models\n",
        "\n",
        "**Q5.1** As with the K-means above, cluster the movies based on the features that were extracted via PCA in a previous step. Set $K=20$. Add the predicted cluster into the dataframe as a new column called `cluster_gmm`. Print out the elements of a single cluster of your choice from the dataframe."
      ]
    },
    {
      "cell_type": "code",
      "execution_count": 21,
      "id": "86735028",
      "metadata": {
        "id": "86735028"
      },
      "outputs": [
        {
          "name": "stdout",
          "output_type": "stream",
          "text": [
            "                                         title  \\\n",
            "1     Pirates of the Caribbean: At World's End   \n",
            "54                           The Good Dinosaur   \n",
            "106                            Shrek the Third   \n",
            "146         Madagascar 3: Europe's Most Wanted   \n",
            "194                                   Dinosaur   \n",
            "...                                        ...   \n",
            "4702                          The Woman Chaser   \n",
            "4725              The Lost Skeleton of Cadavra   \n",
            "4765                        The Exploding Girl   \n",
            "4783                          Breaking Upwards   \n",
            "4791              Sanctuary: Quite a Conundrum   \n",
            "\n",
            "                                               overview  \\\n",
            "1     Captain Barbossa, long believed to be dead, ha...   \n",
            "54    An epic journey into the world of dinosaurs wh...   \n",
            "106   The King of Far Far Away has died and Shrek an...   \n",
            "146   Alex, Marty, Gloria and Melman are still tryin...   \n",
            "194   An orphaned dinosaur raised by lemurs joins an...   \n",
            "...                                                 ...   \n",
            "4702  A 1950s used-car salesman (Patrick Warburton) ...   \n",
            "4725  Remember the good old days when anyone with a ...   \n",
            "4765  On a summer break from college, Ivy, a young e...   \n",
            "4783  'Breaking Upwards' explores a young, real-life...   \n",
            "4791  It should have been just a normal day of sex, ...   \n",
            "\n",
            "                                                 genres      proc_genres  \\\n",
            "1     [{\"id\": 12, \"name\": \"Adventure\"}, {\"id\": 14, \"...          Fantasy   \n",
            "54    [{\"id\": 12, \"name\": \"Adventure\"}, {\"id\": 16, \"...        Animation   \n",
            "106   [{\"id\": 14, \"name\": \"Fantasy\"}, {\"id\": 12, \"na...          Fantasy   \n",
            "146   [{\"id\": 16, \"name\": \"Animation\"}, {\"id\": 10751...        Animation   \n",
            "194   [{\"id\": 16, \"name\": \"Animation\"}, {\"id\": 10751...           Family   \n",
            "...                                                 ...              ...   \n",
            "4702                      [{\"id\": 18, \"name\": \"Drama\"}]            Drama   \n",
            "4725  [{\"id\": 35, \"name\": \"Comedy\"}, {\"id\": 27, \"nam...  Science Fiction   \n",
            "4765  [{\"id\": 18, \"name\": \"Drama\"}, {\"id\": 10749, \"n...          Romance   \n",
            "4783  [{\"id\": 35, \"name\": \"Comedy\"}, {\"id\": 10749, \"...           Comedy   \n",
            "4791  [{\"id\": 53, \"name\": \"Thriller\"}, {\"id\": 27, \"n...           Horror   \n",
            "\n",
            "                                         one_hot_genres  \\\n",
            "1     [0.0, 0.0, 0.0, 0.0, 0.0, 0.0, 0.0, 0.0, 1.0, ...   \n",
            "54    [0.0, 0.0, 1.0, 0.0, 0.0, 0.0, 0.0, 0.0, 0.0, ...   \n",
            "106   [0.0, 0.0, 0.0, 0.0, 0.0, 0.0, 0.0, 0.0, 1.0, ...   \n",
            "146   [0.0, 0.0, 1.0, 0.0, 0.0, 0.0, 0.0, 0.0, 0.0, ...   \n",
            "194   [0.0, 0.0, 0.0, 0.0, 0.0, 0.0, 0.0, 1.0, 0.0, ...   \n",
            "...                                                 ...   \n",
            "4702  [0.0, 0.0, 0.0, 0.0, 0.0, 0.0, 1.0, 0.0, 0.0, ...   \n",
            "4725  [0.0, 0.0, 0.0, 0.0, 0.0, 0.0, 0.0, 0.0, 0.0, ...   \n",
            "4765  [0.0, 0.0, 0.0, 0.0, 0.0, 0.0, 0.0, 0.0, 0.0, ...   \n",
            "4783  [0.0, 0.0, 0.0, 1.0, 0.0, 0.0, 0.0, 0.0, 0.0, ...   \n",
            "4791  [0.0, 0.0, 0.0, 0.0, 0.0, 0.0, 0.0, 0.0, 0.0, ...   \n",
            "\n",
            "                                          proc_overview  overview_len  \\\n",
            "1     captain barbossa long believed to be dead has ...            34   \n",
            "54    an epic journey into the world of dinosaurs wh...            18   \n",
            "106   the king of far far away has died and shrek an...            56   \n",
            "146   alex marty gloria and melman are still trying ...           140   \n",
            "194   an orphaned dinosaur raised by lemurs joins an...            21   \n",
            "...                                                 ...           ...   \n",
            "4702  a 1950s usedcar salesman patrick warburton wan...            21   \n",
            "4725  remember the good old days when anyone with a ...            59   \n",
            "4765  on a summer break from college ivy a young epi...            30   \n",
            "4783  breaking upwards explores a young reallife new...            96   \n",
            "4791  it should have been just a normal day of sex f...            40   \n",
            "\n",
            "                                       one_hot_overview  \\\n",
            "1     [0.0, 0.0, 0.0, 0.0, 0.0, 0.0, 0.0, 0.0, 0.0, ...   \n",
            "54    [0.0, 0.0, 0.0, 0.0, 0.0, 0.0, 0.0, 0.0, 0.0, ...   \n",
            "106   [0.0, 0.0, 0.0, 0.0, 0.0, 0.0, 0.0, 0.0, 0.0, ...   \n",
            "146   [0.0, 0.0, 0.0, 0.0, 0.0, 0.0, 0.0, 0.0, 0.0, ...   \n",
            "194   [0.0, 0.0, 0.0, 0.0, 0.0, 0.0, 0.0, 0.0, 0.0, ...   \n",
            "...                                                 ...   \n",
            "4702  [0.0, 0.0, 1.0, 0.0, 0.0, 0.0, 0.0, 0.0, 0.0, ...   \n",
            "4725  [0.0, 0.0, 0.0, 0.0, 0.0, 0.0, 0.0, 0.0, 0.0, ...   \n",
            "4765  [0.0, 0.0, 0.0, 0.0, 0.0, 0.0, 0.0, 0.0, 0.0, ...   \n",
            "4783  [0.0, 0.0, 0.0, 0.0, 0.0, 0.0, 0.0, 0.0, 0.0, ...   \n",
            "4791  [0.0, 0.0, 0.0, 0.0, 0.0, 0.0, 0.0, 0.0, 0.0, ...   \n",
            "\n",
            "                                           overview_pca  cluster_kmeans  \\\n",
            "1     [-1.7737881462859417, -0.4245491539637156, -3....               0   \n",
            "54    [-1.9568261771314295, 1.895060279684576, -4.38...               0   \n",
            "106   [-4.187587854866605, -1.4855375483051545, -4.7...               0   \n",
            "146   [-2.8810979830295547, -0.527647939852577, -2.5...               0   \n",
            "194   [-2.366673403750116, 2.7855705915890403, -5.23...               0   \n",
            "...                                                 ...             ...   \n",
            "4702  [-2.6816553698843513, 0.8820457983335137, -4.6...               0   \n",
            "4725  [-1.962540035693392, -2.2362293419065242, -4.6...               0   \n",
            "4765  [-0.7680341835561127, -1.1332581604150536, -2....               0   \n",
            "4783  [-1.401911129102085, 0.6416421116786227, -3.48...               0   \n",
            "4791  [-2.7145786703488732, -2.4742956071916518, -3....               0   \n",
            "\n",
            "      cluster_gmm  \n",
            "1               0  \n",
            "54              0  \n",
            "106             0  \n",
            "146             0  \n",
            "194             0  \n",
            "...           ...  \n",
            "4702            0  \n",
            "4725            0  \n",
            "4765            0  \n",
            "4783            0  \n",
            "4791            0  \n",
            "\n",
            "[173 rows x 11 columns]\n"
          ]
        }
      ],
      "source": [
        "from sklearn.mixture import GaussianMixture\n",
        "\n",
        "# Perform Gaussian Mixture Model clustering\n",
        "gmm = GaussianMixture(n_components=20, random_state=42)\n",
        "\n",
        "# Fit GMM model\n",
        "gmm.fit(df[\"overview_pca\"].tolist())\n",
        "\n",
        "# Get predictions\n",
        "y_preds_gmm = gmm.predict(df[\"overview_pca\"].tolist())\n",
        "\n",
        "# Add predicted cluster as a new column\n",
        "df[\"cluster_gmm\"] = y_preds_gmm\n",
        "\n",
        "# Choose a cluster number (e.g., cluster 0)\n",
        "cluster_number = 0\n",
        "\n",
        "# Print out elements of the chosen cluster\n",
        "print(df[df[\"cluster_gmm\"] == cluster_number])\n"
      ]
    },
    {
      "cell_type": "markdown",
      "id": "95ed02d9",
      "metadata": {
        "id": "95ed02d9"
      },
      "source": [
        "**Q4.2** Does this clustering seem alright to you (based on your movie watching history)? Are there movies that go well together and movies that don't? How does this compare to K-Means Clustering?"
      ]
    },
    {
      "cell_type": "markdown",
      "id": "c62e20dd",
      "metadata": {
        "id": "c62e20dd"
      },
      "source": [
        "Does not seem quite right because shrek and pirates of the carribean are in the same cluster."
      ]
    },
    {
      "cell_type": "markdown",
      "id": "3b0064a1",
      "metadata": {
        "id": "3b0064a1"
      },
      "source": [
        "**Q4.3** Let's check out the size of the clusters. Create a double bar plot (**as you did in the last assignment**) showing the different sizes of the clusters.\n",
        "\n",
        "*Hint: you may want to consider `df.value_counts()` if you're unfamiliar.*"
      ]
    },
    {
      "cell_type": "code",
      "execution_count": 30,
      "id": "e775ad4f",
      "metadata": {
        "id": "e775ad4f"
      },
      "outputs": [
        {
          "data": {
            "image/png": "[encoded data removed]",
            "text/plain": [
              "<Figure size 1000x600 with 1 Axes>"
            ]
          },
          "metadata": {},
          "output_type": "display_data"
        }
      ],
      "source": [
        "import matplotlib.pyplot as plt\n",
        "\n",
        "# Calculate the count of occurrences for each cluster\n",
        "cluster_counts = df[\"cluster_gmm\"].value_counts().sort_index()\n",
        "\n",
        "# Plotting the double bar plot\n",
        "plt.figure(figsize=(10, 6))\n",
        "plt.bar(cluster_counts.index - 0.2, cluster_counts, width=0.4, color='b', align='center', label='Cluster Counts')\n",
        "plt.xlabel('Cluster Number')\n",
        "plt.ylabel('Count')\n",
        "plt.title('Cluster Sizes')\n",
        "plt.xticks(cluster_counts.index)\n",
        "plt.legend()\n",
        "plt.show()\n"
      ]
    },
    {
      "cell_type": "markdown",
      "id": "cfc124da",
      "metadata": {
        "id": "cfc124da"
      },
      "source": [
        "**Q4.4** Do you see a significant difference in the sizes of the clusters? Which is more uniform? Any thought on why?"
      ]
    },
    {
      "cell_type": "markdown",
      "id": "9f538519",
      "metadata": {
        "id": "9f538519"
      },
      "source": [
        "*Your text answer here*"
      ]
    },
    {
      "cell_type": "markdown",
      "id": "aa60615d",
      "metadata": {
        "id": "aa60615d"
      },
      "source": [
        "# Q6: A very simple recommender system\n",
        "\n",
        "One useful thing that clustering is often used for (though at a much greater complexity) is in **recommender systems**. These are systems with users and items (movies, files, documents, etc.), where new items are shown to the user based on what they've previously interacted with, and possibly also on the behaviour of other users.\n",
        "\n",
        "**Q6.1** Assume your dentist has just watched the movie Avatar and asks you for a recommendation. Lucky for you, you just finished this assignment. Using the cluster indices of the movie Avatar for both the K-means and GMM methods, print out suggestions for new movies."
      ]
    },
    {
      "cell_type": "code",
      "execution_count": 23,
      "id": "86a74f68",
      "metadata": {
        "id": "86a74f68"
      },
      "outputs": [
        {
          "name": "stdout",
          "output_type": "stream",
          "text": [
            "Suggestions based on K-means clustering:\n",
            "['Avatar' 'Harry Potter and the Half-Blood Prince' 'Man of Steel'\n",
            " 'The Amazing Spider-Man' 'King Kong' 'X-Men: The Last Stand'\n",
            " 'Pacific Rim' 'Big Hero 6' 'Wreck-It Ralph' 'The Polar Express'\n",
            " 'Terminator 3: Rise of the Machines' 'Warcraft' 'Thor' 'Bee Movie'\n",
            " 'Kung Fu Panda 2' 'Mission: Impossible III' 'Pan' 'Troy'\n",
            " 'Men in Black II' 'Fun with Dick and Jane' 'Watchmen'\n",
            " 'Captain America: The First Avenger' 'The World Is Not Enough'\n",
            " 'The Revenant' 'Noah' 'R.I.P.D.' 'Sherlock Holmes: A Game of Shadows'\n",
            " 'The Perfect Storm' 'Prometheus' 'RoboCop' 'Speed Racer' 'Knight and Day'\n",
            " 'Live Free or Die Hard' 'Town & Country' 'The Taking of Pelham 1 2 3'\n",
            " 'The Mummy Returns' 'The Lord of the Rings: The Return of the King'\n",
            " 'Tropic Thunder' '102 Dalmatians' 'Memoirs of a Geisha'\n",
            " 'The Hunger Games' 'Over the Hedge' \"Something's Gotta Give\"\n",
            " 'The Manchurian Candidate' 'Battlefield Earth' 'Red Planet' 'Red Dragon'\n",
            " 'The Invasion' 'Hostage' 'Snake Eyes' 'Jarhead' 'Big Fish' 'The Abyss'\n",
            " 'Money Train' 'The Last Legion' 'What Women Want' 'Unbroken'\n",
            " 'Mona Lisa Smile' 'Death Race' 'We Are Marshall' 'Hudson Hawk'\n",
            " 'Lucky Numbers' 'The Bourne Identity' \"The General's Daughter\"\n",
            " 'Couples Retreat' 'Cheaper by the Dozen 2' 'Eat Pray Love'\n",
            " 'Any Given Sunday' 'Trouble with the Curve' 'The Legend of Bagger Vance'\n",
            " 'Event Horizon' \"Winter's Tale\" 'Meet Dave' 'The Monkey King 2'\n",
            " 'Rambo III' 'The Equalizer' 'Bowfinger' 'Semi-Pro' 'Flags of Our Fathers'\n",
            " 'Law Abiding Citizen' 'Catch Me If You Can' 'Mamma Mia!'\n",
            " 'Bulletproof Monk' 'Super 8' 'Central Intelligence' 'Unfaithful'\n",
            " 'The Replacements' 'Resident Evil: Apocalypse' 'Out of Time'\n",
            " 'The Adventures of Sharkboy and Lavagirl' 'The Iron Giant' 'Zoolander 2'\n",
            " 'Three Kings' 'The Thomas Crown Affair' 'Mary Reilly' 'Liar Liar' 'Blade'\n",
            " 'Coach Carter' 'Anaconda' 'From Hell' 'Fat Albert' 'Savages'\n",
            " 'Johnny English' 'Aliens in the Attic' 'Miracle at St. Anna'\n",
            " 'Bangkok Dangerous' 'The Fugitive' 'The Mirror Has Two Faces'\n",
            " '15 Minutes' 'The Interview' 'The Conjuring 2' 'The Mexican'\n",
            " 'Get Him to the Greek' 'Shall We Dance?' 'Escape from Planet Earth'\n",
            " 'Autumn in New York' 'Memoirs of an Invisible Man'\n",
            " \"Cirque du Freak: The Vampire's Assistant\" 'Snowpiercer' 'Grudge Match'\n",
            " 'Riddick' 'The 5th Wave' 'Lethal Weapon 3' 'Trainwreck' 'Radio'\n",
            " 'Saving Mr. Banks' 'The Ladykillers' 'Street Fighter' 'Femme Fatale'\n",
            " 'Ponyo' 'Mandela: Long Walk to Freedom' 'The Darkest Hour' 'Elf'\n",
            " 'Phenomenon' 'Cradle Will Rock' 'Apocalypse Now' 'Going the Distance'\n",
            " 'The Hunt for Red October' 'Ace Ventura: When Nature Calls'\n",
            " 'The Princess Diaries' 'Mystic River' 'Midnight in Paris' 'Glory Road'\n",
            " 'Carrie' 'The Prince & Me' 'Love & Other Drugs' 'The Cave'\n",
            " 'Little Nicholas' 'Grace of Monaco' \"Ripley's Game\" 'Serving Sara'\n",
            " 'Taking Woodstock' 'Safe Haven' 'Blade Runner' 'We Own the Night'\n",
            " 'About a Boy' 'Ever After: A Cinderella Story' 'Open Range' 'Rain Man'\n",
            " 'Money Talks' 'The Sisterhood of the Traveling Pants'\n",
            " 'Jeepers Creepers 2' \"She's the Man\" \"Mr. Bean's Holiday\" 'August Rush'\n",
            " 'War' 'The Box' 'Shark Night' \"The World's Fastest Indian\" 'Blindness'\n",
            " 'Carnage' 'Me and Orson Welles' 'Little White Lies' 'The Counselor'\n",
            " 'Red Sky' 'Play It to the Bone' 'Zombieland' 'Haywire'\n",
            " 'The Water Diviner' 'The Animal' 'Gandhi' 'Saving Silverman'\n",
            " 'Jay and Silent Bob Strike Back' 'Moliere' 'Michael Clayton'\n",
            " 'Beverly Hills Chihuahua' 'Tammy' 'The Last Song' '12 Years a Slave'\n",
            " 'Selma' 'Premonition' 'Max' 'Milk' 'The Stepfather' 'The Debt'\n",
            " 'The Bank Job' 'You Again' 'Street Kings' 'A Scanner Darkly'\n",
            " 'Flash of Genius' 'Firestorm' 'The Amityville Horror'\n",
            " 'Deuce Bigalow: Male Gigolo' 'Left Behind' 'Bad Santa'\n",
            " 'Diary of a Wimpy Kid: Rodrick Rules' 'The Legend of the Lone Ranger'\n",
            " 'Being Julia' 'Nine 1/2 Weeks' 'The White Ribbon' 'Renaissance'\n",
            " 'The Others' 'Escobar: Paradise Lost' 'Dumb and Dumber' 'Road Trip'\n",
            " 'The Texas Chainsaw Massacre: The Beginning' 'The Roommate' 'Duets'\n",
            " 'The White Countess' 'Where the Heart Is' 'Drive'\n",
            " 'The Remains of the Day' 'Boogie Nights' 'Flicka' 'Whatever It Takes'\n",
            " 'Hoot' 'The Company' 'The Clan of the Cave Bear' 'Crazy in Alabama'\n",
            " 'Winnie Mandela' 'Fatal Attraction' 'Vampire in Brooklyn' 'Bobby'\n",
            " 'Wild Grass' 'Margaret' 'Quills' 'Downfall' 'The Godfather: Part II'\n",
            " 'Dude, Where’s My Car?' 'St. Vincent' 'No Good Deed' 'The Mist'\n",
            " 'Ex Machina' 'Birthday Girl' 'Machete'\n",
            " 'Harold & Kumar Escape from Guantanamo Bay' 'Prophecy' 'Sorority Boys'\n",
            " 'In the Cut' 'The Pursuit of D.B. Cooper' 'The Life Before Her Eyes'\n",
            " 'Space Battleship Yamato' 'The Cry of the Owl' 'F.I.S.T.' 'Slackers'\n",
            " 'Machine Gun McCain' 'LOL' 'September Dawn' 'Friday After Next'\n",
            " 'The Outsiders' 'Wrong Turn' 'End of the Spear' 'Very Bad Things'\n",
            " 'Sleepover' 'The Straight Story' 'Black or White' 'The Swindle'\n",
            " 'High Heels and Low Lifes' 'Fifty Dead Men Walking' 'Jungle Shuffle'\n",
            " 'Poltergeist III' 'Re-Kill' 'Jab Tak Hai Jaan' 'Two Evil Eyes'\n",
            " 'The Girl on the Train' 'The Lost Boys'\n",
            " 'A Thin Line Between Love and Hate' 'Kicks' 'New Nightmare'\n",
            " 'The Wicked Lady' 'The Secret of Kells' 'The Land Girls'\n",
            " 'The Death and Life of Bobby Z' 'My Lucky Star' 'The Hotel New Hampshire'\n",
            " 'Juno' 'Flirting with Disaster' 'The Mighty Macs' 'Mother and Child'\n",
            " 'Shade' 'A Home at the End of the World'\n",
            " 'Butch Cassidy and the Sundance Kid' 'Ordinary People'\n",
            " 'The Usual Suspects' 'Pollock' 'The Train' 'Miss Julie'\n",
            " 'Dallas Buyers Club' 'Clerks II' 'The Apostle' 'The Players Club'\n",
            " 'Spring Breakers' 'Digimon: The Movie' 'Green Room' 'Rudderless'\n",
            " 'Born Of War' 'A Cock and Bull Story' 'Take Shelter' 'All Hat'\n",
            " 'Treading Water' '25th Hour' 'Salvador' 'Cargo' '3 Strikes' 'You Kill Me'\n",
            " 'The Art of Getting By' 'The Last Time I Committed Suicide'\n",
            " 'Futuro Beach' 'The Pirate' 'The History Boys' 'Train' 'The Masked Saint'\n",
            " 'City of God' 'Paranormal Activity 2' 'Sinister' 'Krush Groove'\n",
            " 'Teen Wolf Too' 'Woman Thou Art Loosed' 'Freeway' 'High Tension'\n",
            " 'The Wizard of Oz' 'Timber Falls' \"2016: Obama's America\" 'Brick Lane'\n",
            " 'U.F.O.' 'Friday the 13th Part III' 'Mi America'\n",
            " 'The Toxic Avenger Part II' 'To Kill a Mockingbird'\n",
            " 'Mad Max 2: The Road Warrior' 'Before Sunset' 'Thirteen' 'Shortbus'\n",
            " 'In the Shadow of the Moon' 'Clockwatchers' 'Six-String Samurai'\n",
            " \"It's All Gone Pete Tong\" 'The Missing Person' 'Supercapitalist' 'Vaalu'\n",
            " 'Travellers and Magicians' 'Independence Daysaster' 'Killing Zoe'\n",
            " 'Trucker' 'Me You and Five Bucks' 'GirlHouse' 'Sex, Lies, and Videotape'\n",
            " 'Home Run' 'The Second Mother' 'The Wicked Within' 'Rocky' 'Dr. No'\n",
            " 'Hellraiser' 'Blue Valentine' 'October Baby' 'The Perfect Host'\n",
            " 'My Last Day Without You' 'Ask Me Anything' 'L!fe Happens'\n",
            " 'The Mudge Boy' 'Interview with the Assassin' 'Hav Plenty'\n",
            " 'Escape from Tomorrow' 'Love Letters' 'Mad Hot Ballroom'\n",
            " 'The Station Agent' 'To Save A Life' 'Finishing The Game'\n",
            " 'Kiss the Bride' 'America Is Still the Place'\n",
            " 'Born to Fly: Elizabeth Streb vs. Gravity' 'I Want Your Money'\n",
            " 'Sisters in Law' 'Death Race 2000'\n",
            " 'The Incredibly True Adventure of Two Girls In Love' 'Like Crazy'\n",
            " 'Sugar Town' 'The Canyons' 'The Frozen' 'Horse Camp' 'Urbania'\n",
            " 'Reality Show' 'H.' \"Sweet Sweetback's Baadasssss Song\"\n",
            " 'When the Lights Went Out' 'The Married Woman' 'The Gallows'\n",
            " 'Hollywood Shuffle' 'Gabriela' 'The Naked Ape' 'Down Terrace'\n",
            " 'Tin Can Man']\n",
            "\n",
            "Suggestions based on GMM clustering:\n",
            "['Avatar' 'Spectre' 'Harry Potter and the Half-Blood Prince'\n",
            " 'Man of Steel' 'The Amazing Spider-Man' 'King Kong' 'Iron Man 3'\n",
            " 'X-Men: The Last Stand' 'The Amazing Spider-Man 2' 'Pacific Rim'\n",
            " 'The Chronicles of Narnia: The Lion, the Witch and the Wardrobe'\n",
            " 'Big Hero 6' 'Wreck-It Ralph' 'The Polar Express'\n",
            " 'Terminator 3: Rise of the Machines' 'Warcraft' 'Ratatouille' 'Bee Movie'\n",
            " 'Kung Fu Panda 2' 'Troy' 'Men in Black II' 'Fun with Dick and Jane'\n",
            " 'Watchmen' 'Captain America: The First Avenger' 'The World Is Not Enough'\n",
            " 'The Revenant' 'Noah' 'The Adventures of Tintin' 'R.I.P.D.'\n",
            " 'Sherlock Holmes: A Game of Shadows' 'The Perfect Storm' 'Prometheus'\n",
            " 'RoboCop' 'Speed Racer' 'How Do You Know' 'Knight and Day' 'The Aviator'\n",
            " 'Live Free or Die Hard' 'Town & Country' 'The Taking of Pelham 1 2 3'\n",
            " 'Point Break' 'Green Zone' 'The Mummy Returns' 'The Flowers of War'\n",
            " 'Black Hawk Down' 'The Lord of the Rings: The Return of the King'\n",
            " 'The Incredibles' 'Tropic Thunder' '102 Dalmatians' 'Memoirs of a Geisha'\n",
            " 'Click' 'The Hunger Games' 'Over the Hedge' \"Something's Gotta Give\"\n",
            " 'Four Christmases' 'The Manchurian Candidate' 'Battlefield Earth'\n",
            " 'Red Planet' 'Red Dragon' 'The Invasion' 'Independence Day'\n",
            " 'Now You See Me' 'Hostage' 'Snake Eyes' 'Jarhead' 'Big Fish' 'The Abyss'\n",
            " 'Money Train' 'The Last Legion' 'What Women Want' 'Unbroken'\n",
            " 'Eyes Wide Shut' 'Death Race' 'We Are Marshall' 'Hudson Hawk'\n",
            " 'Lucky Numbers' 'Random Hearts' 'The Hateful Eight' 'The Bourne Identity'\n",
            " \"The General's Daughter\" 'Couples Retreat' 'Cheaper by the Dozen 2'\n",
            " 'Eat Pray Love' 'Any Given Sunday' 'The Jackal' 'Trouble with the Curve'\n",
            " 'The Legend of Bagger Vance' 'Event Horizon' \"Winter's Tale\" 'Meet Dave'\n",
            " 'The Monkey King 2' 'Just Like Heaven' 'Rambo III'\n",
            " 'Did You Hear About the Morgans?' 'The Equalizer' 'Bowfinger' 'Semi-Pro'\n",
            " 'Flags of Our Fathers' 'Law Abiding Citizen' 'Catch Me If You Can'\n",
            " 'Mamma Mia!' 'Bulletproof Monk' 'Jerry Maguire' 'Super 8'\n",
            " 'Central Intelligence' 'Unfaithful' 'The Replacements'\n",
            " 'Resident Evil: Apocalypse' 'Out of Time' 'On Deadly Ground'\n",
            " 'The Adventures of Sharkboy and Lavagirl' 'The Story of Us'\n",
            " 'The Iron Giant' 'Zoolander 2' 'Panic Room' 'Three Kings'\n",
            " 'The Thomas Crown Affair' 'Mary Reilly' 'Liar Liar' 'Inchon' 'Blade'\n",
            " 'Coach Carter' 'Anaconda' 'From Hell' 'Fat Albert' 'Savages'\n",
            " 'Johnny English' 'Aliens in the Attic' 'Miracle at St. Anna'\n",
            " 'Bangkok Dangerous' 'The Fugitive' 'The Mirror Has Two Faces'\n",
            " '15 Minutes' 'The Interview' 'Double Jeopardy' 'The Conjuring 2'\n",
            " 'The Mexican' 'Get Him to the Greek' 'Shall We Dance?'\n",
            " 'Escape from Planet Earth' 'Made of Honor' 'Gothika' 'Autumn in New York'\n",
            " 'Memoirs of an Invisible Man' \"Cirque du Freak: The Vampire's Assistant\"\n",
            " 'Delgo' 'Snowpiercer' 'Grudge Match' 'Riddick' 'The 5th Wave'\n",
            " 'Space Chimps' 'Lethal Weapon 3' 'Trainwreck' 'A Nightmare on Elm Street'\n",
            " 'Radio' 'Saving Mr. Banks' 'The Ladykillers' 'Street Fighter' 'Mirrors'\n",
            " 'Krull' 'Femme Fatale' 'Ponyo' 'Mandela: Long Walk to Freedom'\n",
            " 'The Darkest Hour' 'Elf' 'Phenomenon' 'Cradle Will Rock' 'Apocalypse Now'\n",
            " 'Going the Distance' 'Big Daddy' 'The Hunt for Red October'\n",
            " 'Ace Ventura: When Nature Calls' 'The Princess Diaries' 'Mystic River'\n",
            " 'Midnight in Paris' 'Message in a Bottle' 'Carrie' 'The Prince & Me'\n",
            " 'Winnie the Pooh' 'Love & Other Drugs' 'Pride and Glory' 'The Cave'\n",
            " 'Dragonball Evolution' 'Dead Man Down' 'Little Nicholas' 'Wild Card'\n",
            " 'Grace of Monaco' \"Ripley's Game\" 'Serving Sara' 'Taking Woodstock'\n",
            " 'Safe Haven' 'Blade Runner' 'We Own the Night' 'Notes on a Scandal'\n",
            " 'About a Boy' 'Suspect Zero' 'Ever After: A Cinderella Story'\n",
            " 'Open Range' 'The Raven' 'Rain Man' 'Money Talks'\n",
            " 'The Sisterhood of the Traveling Pants' 'Jeepers Creepers 2'\n",
            " \"She's the Man\" \"Mr. Bean's Holiday\" 'August Rush' 'A Lot Like Love'\n",
            " 'War' 'The Box' 'Shark Night' 'The Road' \"The World's Fastest Indian\"\n",
            " 'Blindness' 'Carnage' 'Me and Orson Welles' 'Little White Lies'\n",
            " 'The Counselor' 'Red Sky' 'Footloose' 'The Wiz' 'Play It to the Bone'\n",
            " 'Zombieland' 'Bad Boys' 'Haywire' 'The Water Diviner' 'The Animal'\n",
            " 'Gandhi' 'Saving Silverman' 'Jay and Silent Bob Strike Back' 'Moliere'\n",
            " 'Michael Clayton' 'Beverly Hills Chihuahua' 'Tammy' 'The Last Song'\n",
            " '12 Years a Slave' 'Selma' 'Premonition' 'Max' 'Copycat' 'Milk'\n",
            " 'The Stepfather' 'The Debt' 'The Bank Job' 'You Again' 'Street Kings'\n",
            " 'Daybreakers' 'Battle of the Year' 'A Scanner Darkly' 'Flash of Genius'\n",
            " 'The Frozen Ground' 'A Cinderella Story' 'Firestorm'\n",
            " 'The Amityville Horror' 'Deuce Bigalow: Male Gigolo' 'Left Behind'\n",
            " 'Bad Santa' 'Diary of a Wimpy Kid: Rodrick Rules'\n",
            " 'The Legend of the Lone Ranger' 'Being Julia' 'Nine 1/2 Weeks'\n",
            " 'Dragonslayer' 'The White Ribbon' 'Renaissance' 'The Others'\n",
            " 'Escobar: Paradise Lost' 'Dumb and Dumber' 'Road Trip'\n",
            " 'The Texas Chainsaw Massacre: The Beginning' 'The Roommate' 'Duets'\n",
            " 'The White Countess' 'The Imitation Game' 'Where the Heart Is' 'Drive'\n",
            " 'The Remains of the Day' 'Boogie Nights' 'Flicka' 'Whatever It Takes'\n",
            " 'Hoot' 'The Company' 'The Clan of the Cave Bear' 'Crazy in Alabama'\n",
            " 'Winnie Mandela' 'Fatal Attraction' 'Vampire in Brooklyn' 'Bobby'\n",
            " 'Easy Virtue' 'Wild Grass' 'Margaret' 'Quills' 'Downfall'\n",
            " 'The Godfather: Part II' 'Dude, Where’s My Car?' 'St. Vincent'\n",
            " 'No Good Deed' 'The Mist' 'Ex Machina' 'Birthday Girl' 'Excessive Force'\n",
            " 'Machete' 'Harold & Kumar Escape from Guantanamo Bay' 'Prophecy'\n",
            " 'Sorority Boys' 'From Justin to Kelly' 'In the Cut'\n",
            " 'The Pursuit of D.B. Cooper' 'Married Life' 'The Life Before Her Eyes'\n",
            " 'Space Battleship Yamato' 'The Cry of the Owl' 'Gremlins' 'F.I.S.T.'\n",
            " 'Slackers' 'Machine Gun McCain' 'LOL' 'September Dawn'\n",
            " 'Friday After Next' 'The Last Dragon' 'The Outsiders' 'Tremors'\n",
            " 'Wrong Turn' 'The Matador' 'End of the Spear' 'Drop Dead Gorgeous'\n",
            " 'Very Bad Things' 'Sleepover' 'The Straight Story' 'Black or White'\n",
            " 'The Swindle' 'High Heels and Low Lifes' 'The Reef'\n",
            " 'Fifty Dead Men Walking' 'Jungle Shuffle' 'Partition' 'Poltergeist III'\n",
            " 'Re-Kill' 'Heavy Metal' 'Kites' 'Jab Tak Hai Jaan' 'Two Evil Eyes'\n",
            " 'The Girl on the Train' 'The Lost Boys' 'My Name Is Khan'\n",
            " 'A Thin Line Between Love and Hate' 'Kicks' 'New Nightmare'\n",
            " 'The Wicked Lady' 'The Secret of Kells' 'The Land Girls' 'Dear Wendy'\n",
            " 'The Death and Life of Bobby Z' 'My Lucky Star' 'The Hotel New Hampshire'\n",
            " 'Juno' 'Flirting with Disaster' 'Bride & Prejudice' 'A Dog Of Flanders'\n",
            " 'The Mighty Macs' 'Mother and Child' 'Twixt' 'Pale Rider' 'Shade' 'Bats'\n",
            " 'Layer Cake' 'A Home at the End of the World'\n",
            " 'Butch Cassidy and the Sundance Kid' 'Ordinary People' 'Pollock'\n",
            " 'Beastmaster 2: Through the Portal of Time' 'The Train' 'Sunshine State'\n",
            " 'Miss Julie' 'Jackass: The Movie' 'Dallas Buyers Club' 'Clerks II'\n",
            " 'The Apostle' 'The Players Club' 'Spring Breakers' 'Digimon: The Movie'\n",
            " 'Saved!' 'Green Room' 'Rudderless' 'Born Of War' 'A Cock and Bull Story'\n",
            " 'Take Shelter' 'All Hat' 'Treading Water' 'Moby Dick' '25th Hour'\n",
            " 'Salvador' 'Cargo' 'The Kids Are All Right' '3 Strikes' 'You Kill Me'\n",
            " 'The Art of Getting By' 'Adore' 'Futuro Beach' 'How to Fall in Love'\n",
            " 'The Pirate' 'The History Boys' 'Airplane!' 'Train' 'The Masked Saint'\n",
            " 'City of God' 'A Christmas Story' 'The Man Who Shot Liberty Valance'\n",
            " 'Paranormal Activity 2' 'Sinister' 'Friday the 13th Part VI: Jason Lives'\n",
            " 'Krush Groove' 'Teen Wolf Too' 'Woman Thou Art Loosed' 'Freeway'\n",
            " 'Fort McCoy' 'High Tension' 'The Wizard of Oz' 'Timber Falls'\n",
            " \"2016: Obama's America\" 'Brick Lane' 'The Other End of the Line' 'U.F.O.'\n",
            " 'Friday the 13th Part III' 'Mi America' 'The Toxic Avenger Part II'\n",
            " 'To Kill a Mockingbird' 'Mad Max 2: The Road Warrior' 'Before Sunset'\n",
            " 'Thirteen' 'Shortbus' 'The Book of Mormon Movie, Volume 1: The Journey'\n",
            " 'In the Shadow of the Moon' 'Clockwatchers' 'Six-String Samurai'\n",
            " \"It's All Gone Pete Tong\" 'The Missing Person' 'Supercapitalist' 'Vaalu'\n",
            " 'Ed and His Dead Mother' 'Travellers and Magicians'\n",
            " 'Independence Daysaster' 'Killing Zoe' 'Hatchet' 'Trucker'\n",
            " 'Me You and Five Bucks' 'GirlHouse' 'The Celebration'\n",
            " 'Sex, Lies, and Videotape' 'Home Run' 'The Second Mother' 'Crowsnest'\n",
            " 'The Wicked Within' 'Rocky' 'Dr. No' 'Hellraiser' 'Blue Valentine'\n",
            " 'October Baby' 'Obvious Child' 'The Perfect Host' 'Proud'\n",
            " 'My Last Day Without You' 'Ask Me Anything' 'L!fe Happens'\n",
            " 'The Mudge Boy' 'Safety Not Guaranteed' 'Interview with the Assassin'\n",
            " 'Hav Plenty' 'Escape from Tomorrow' 'Love Letters' 'Mad Hot Ballroom'\n",
            " 'The Station Agent' 'To Save A Life' 'Finishing The Game'\n",
            " 'Kiss the Bride' 'America Is Still the Place'\n",
            " 'Born to Fly: Elizabeth Streb vs. Gravity' 'I Want Your Money'\n",
            " 'The Big Swap' 'Sisters in Law' 'Ayurveda: Art of Being'\n",
            " 'Death Race 2000' 'The Incredibly True Adventure of Two Girls In Love'\n",
            " 'Like Crazy' 'Sugar Town' 'The Canyons' 'The Frozen' 'Horse Camp'\n",
            " 'Urbania' 'Reality Show' 'H.' \"Sweet Sweetback's Baadasssss Song\" 'Once'\n",
            " 'When the Lights Went Out' 'The Married Woman' 'The Gallows'\n",
            " 'Hollywood Shuffle' 'Gabriela' 'The Naked Ape' 'George Washington'\n",
            " 'Down Terrace' 'Tin Can Man']\n"
          ]
        }
      ],
      "source": [
        "prev_watch = \"Avatar\"\n",
        "\n",
        "# Find what cluster index Avatar falls into for k-means\n",
        "cluster_kmeans = df[df[\"title\"] == prev_watch][\"cluster_kmeans\"].iloc[0]\n",
        "\n",
        "# Find what cluster index Avatar falls into for GMM\n",
        "cluster_gmm = df[df[\"title\"] == prev_watch][\"cluster_gmm\"].iloc[0]\n",
        "\n",
        "# Print out similar movies for K-means\n",
        "print(\"Suggestions based on K-means clustering:\")\n",
        "print(df[df[\"cluster_kmeans\"] == cluster_kmeans][\"title\"].values)\n",
        "\n",
        "# Print out similar movies for GMM\n",
        "print(\"\\nSuggestions based on GMM clustering:\")\n",
        "print(df[df[\"cluster_gmm\"] == cluster_gmm][\"title\"].values)\n"
      ]
    },
    {
      "cell_type": "markdown",
      "id": "4ecec1ff",
      "metadata": {
        "id": "4ecec1ff"
      },
      "source": [
        "**Q6.2** Are any of the two recommender systems any good? Would you use them if your real dentist asks for a movie suggestion?"
      ]
    },
    {
      "cell_type": "markdown",
      "id": "aae96b8a",
      "metadata": {
        "id": "aae96b8a"
      },
      "source": [
        "I would not, both do recommend related movies but also include seemingly random and unrelated movies."
      ]
    },
    {
      "cell_type": "markdown",
      "id": "92b84753",
      "metadata": {
        "id": "92b84753"
      },
      "source": [
        "**Q6.3** How would you try making the recommender systems better?"
      ]
    },
    {
      "cell_type": "markdown",
      "id": "40d3f6dd",
      "metadata": {
        "id": "40d3f6dd"
      },
      "source": [
        "I would try to keep clusters smaller"
      ]
    },
    {
      "cell_type": "markdown",
      "id": "7df2d34a",
      "metadata": {
        "id": "7df2d34a"
      },
      "source": [
        "**Q6.4** Say your dentist likes the movies you suggested and has watched a few more since you met him last. How would you incorporate this fact (recommendation based on multiple movies) into your suggestions?"
      ]
    },
    {
      "cell_type": "markdown",
      "id": "b3549de4",
      "metadata": {
        "id": "b3549de4"
      },
      "source": [
        "We can find the clusters of the movies the dentist watched since we last met, and recommend movies that belong to that cluster.\n"
      ]
    },
    {
      "cell_type": "markdown",
      "id": "f20b74ce",
      "metadata": {
        "id": "f20b74ce"
      },
      "source": [
        "\n",
        "\n",
        "```\n",
        "`# This is formatted as code`\n",
        "```\n",
        "\n",
        "**Q6.5** An alternative method for recommendations is to use your encoded movie-feature vectors (in this case your overview+PCA vector) in order to find out what movie may be most similar to the current one. In the case of K-Means and GMMs, \"similarity\" referred to Euclidean distance. However, in this exercise, we will use *cosine similarity*, which is another very common similarity measure, and is related to the angle between two vectors. It is defined as:\n",
        "\n",
        "$$sim(v_1, v_2)=\\frac{v_1\\cdot v_2}{||v_1||\\cdot||v_2||}$$\n",
        "\n",
        "Where $v_1$ and $v_2$ are vectors and the operator $||\\cdot||$ is the norm of the vector. The function ranges from $[-1,1]$ (where 1 means that the vectors point in the same direction).\n",
        "\n",
        "Define an appropriate function `cosine_sim`. Add a column called `cos_sim_to_avatar` in the df and print out the head of the df, sorted by the similarity. What movies would you recommend now? Is this better than the clustering methods?"
      ]
    },
    {
      "cell_type": "code",
      "execution_count": 24,
      "id": "cedf60f3",
      "metadata": {
        "colab": {
          "base_uri": "https://localhost:8080/",
          "height": 495
        },
        "id": "cedf60f3",
        "outputId": "975c07d7-6dea-4142-eb81-bce2503d66da"
      },
      "outputs": [
        {
          "name": "stdout",
          "output_type": "stream",
          "text": [
            "                           title  \\\n",
            "0                         Avatar   \n",
            "2994  Mad Max Beyond Thunderdome   \n",
            "2678                   Superstar   \n",
            "2319  Deuce Bigalow: Male Gigolo   \n",
            "3504                  Men of War   \n",
            "\n",
            "                                               overview  \\\n",
            "0     In the 22nd century, a paraplegic Marine is di...   \n",
            "2994  Mad Max becomes a pawn in a decadent oasis of ...   \n",
            "2678  Orphan Mary Katherine Gallagher, an ugly duckl...   \n",
            "2319  Deuce Bigalow is a less than attractive, down ...   \n",
            "3504  Nick Gunar is a burnt-out, jaded and hard-up f...   \n",
            "\n",
            "                                                 genres proc_genres  \\\n",
            "0     [{\"id\": 28, \"name\": \"Action\"}, {\"id\": 12, \"nam...      Action   \n",
            "2994  [{\"id\": 28, \"name\": \"Action\"}, {\"id\": 12, \"nam...   Adventure   \n",
            "2678  [{\"id\": 35, \"name\": \"Comedy\"}, {\"id\": 10751, \"...      Comedy   \n",
            "2319                     [{\"id\": 35, \"name\": \"Comedy\"}]      Comedy   \n",
            "3504  [{\"id\": 28, \"name\": \"Action\"}, {\"id\": 53, \"nam...      Action   \n",
            "\n",
            "                                         one_hot_genres  \\\n",
            "0     [1.0, 0.0, 0.0, 0.0, 0.0, 0.0, 0.0, 0.0, 0.0, ...   \n",
            "2994  [0.0, 1.0, 0.0, 0.0, 0.0, 0.0, 0.0, 0.0, 0.0, ...   \n",
            "2678  [0.0, 0.0, 0.0, 1.0, 0.0, 0.0, 0.0, 0.0, 0.0, ...   \n",
            "2319  [0.0, 0.0, 0.0, 1.0, 0.0, 0.0, 0.0, 0.0, 0.0, ...   \n",
            "3504  [1.0, 0.0, 0.0, 0.0, 0.0, 0.0, 0.0, 0.0, 0.0, ...   \n",
            "\n",
            "                                          proc_overview  overview_len  \\\n",
            "0     in the 22nd century a paraplegic marine is dis...            28   \n",
            "2994  mad max becomes a pawn in a decadent oasis of ...            24   \n",
            "2678  orphan mary katherine gallagher an ugly duckli...            47   \n",
            "2319  deuce bigalow is a less than attractive down o...            77   \n",
            "3504  nick gunar is a burntout jaded and hardup form...           127   \n",
            "\n",
            "                                       one_hot_overview  \\\n",
            "0     [0.0, 0.0, 0.0, 0.0, 0.0, 0.0, 0.0, 0.0, 0.0, ...   \n",
            "2994  [0.0, 0.0, 0.0, 0.0, 0.0, 0.0, 0.0, 0.0, 0.0, ...   \n",
            "2678  [0.0, 0.0, 0.0, 0.0, 0.0, 0.0, 0.0, 0.0, 0.0, ...   \n",
            "2319  [0.0, 0.0, 0.0, 0.0, 0.0, 0.0, 0.0, 0.0, 0.0, ...   \n",
            "3504  [0.0, 0.0, 0.0, 0.0, 0.0, 0.0, 0.0, 0.0, 0.0, ...   \n",
            "\n",
            "                                           overview_pca  cluster_kmeans  \\\n",
            "0     [-2.7265145447805113, 1.244661199423247, -2.00...              14   \n",
            "2994  [-3.8492168623432375, 1.5271473945522223, -2.8...              11   \n",
            "2678  [-4.679546206134967, 2.3192740758198807, -3.20...              11   \n",
            "2319  [-2.6351512787464486, 1.396407398400177, -1.92...              14   \n",
            "3504  [-4.157785222772423, 1.881909609392344, -2.647...              11   \n",
            "\n",
            "      cluster_gmm  cos_sim_to_avatar  \n",
            "0              14           1.000000  \n",
            "2994           11           0.999102  \n",
            "2678           11           0.998915  \n",
            "2319           14           0.998670  \n",
            "3504           11           0.997984  \n"
          ]
        }
      ],
      "source": [
        "import numpy as np\n",
        "\n",
        "def cosine_sim(v1, v2):\n",
        "    \"\"\" Calculate cosine similarity between two vectors \"\"\"\n",
        "    return np.dot(v1, v2) / (np.linalg.norm(v1) * np.linalg.norm(v2))\n",
        "\n",
        "# Get overview_pca encoding of previously watched film\n",
        "prev_watch_enc = df[df[\"title\"] == \"Avatar\"][\"overview_pca\"].iloc[0]\n",
        "\n",
        "sims = []  # Set up place to store similarities\n",
        "for i, row in df.iterrows():\n",
        "    sims.append(cosine_sim(prev_watch_enc, row[\"overview_pca\"]))\n",
        "\n",
        "df[\"cos_sim_to_avatar\"] = sims\n",
        "df = df.sort_values(by=\"cos_sim_to_avatar\", ascending=False)  # Sort df by similarity\n",
        "print(df.head())  # Print to verify\n"
      ]
    },
    {
      "cell_type": "markdown",
      "id": "40391e82",
      "metadata": {
        "id": "40391e82"
      },
      "source": [
        "*Your text answer here*"
      ]
    },
    {
      "cell_type": "markdown",
      "id": "a7b1e343",
      "metadata": {
        "id": "a7b1e343"
      },
      "source": [
        "# Q7 Unsupervised Learning as a Tool\n",
        "\n",
        "At the end of this brief forey into natural language processing, we will end with an interesting task: can a machine predict the genre of a movie based purely on the first 10 words of its overview?\n",
        "\n",
        "First, the following cell shuffles the dataset and splits it into a training and test set. The random seed and random state ensure that the train and test samples are the same for you all the time, and *probably* your classmates too. You can verify this by printing out the dataframes and checking it for yourself."
      ]
    },
    {
      "cell_type": "code",
      "execution_count": 25,
      "id": "f5b1bde1",
      "metadata": {
        "id": "f5b1bde1"
      },
      "outputs": [
        {
          "name": "stdout",
          "output_type": "stream",
          "text": [
            "3765 942\n"
          ]
        }
      ],
      "source": [
        "np.random.seed(0)\n",
        "n_train = int(0.8*len(df))\n",
        "df_shuffle = df.sample(frac=1, random_state=42).reset_index(drop=True)\n",
        "df_train = df_shuffle[:n_train].reset_index(drop=True)\n",
        "df_test = df_shuffle[n_train:].reset_index(drop=True)\n",
        "print(len(df_train), len(df_test))"
      ]
    },
    {
      "cell_type": "markdown",
      "id": "92f9d534",
      "metadata": {
        "id": "92f9d534"
      },
      "source": [
        "## Train, test, evaluate\n",
        "\n",
        "Using a supervised learning method of your choice, try predicting the genre of a movie from the overview. The way you preprocess your data is up to you, and you can take inspiration from the above exercises (e.g. PCA on the one-hot encodings as input, one-hot label encodings as output). There are a number of hyperparameters you can choose depending on your selected method (number of words in your overview, number of dimensions, number of clusters, hyperparameters of your supervised model...), thus, make sure to perform hyperparameter optimization in some way (grid-search, fine-tuning, etc). Once you are happy with how your model is performing, **print out the train_score (accuracy$\\in[0,1]$), test_score (accuracy$\\in[0,1]$), mean training time (in seconds), and mean inference time (in seconds) of your model**.\n",
        "\n",
        "If you are already excited about neural networks, you may also choose to use that as your supervised method. The easiest way to do it is with sklearn's `MLPClassifier` module. The main hyperparameter you would need to tune is the architecture of your model -- how many hidden layers, and how large is each one. For this task, in order to get best performance, you do not necessarily need an MLP (multi-layer perceptron) but feel free to experiment.\n",
        "\n",
        "*Hint: the `train_and_eval` function from the last assignment should be of great help here*"
      ]
    },
    {
      "cell_type": "code",
      "execution_count": 29,
      "id": "e9ac379d",
      "metadata": {
        "id": "e9ac379d"
      },
      "outputs": [
        {
          "name": "stderr",
          "output_type": "stream",
          "text": [
            "c:\\Users\\USER\\AppData\\Local\\Programs\\Python\\Python39\\lib\\site-packages\\sklearn\\model_selection\\_split.py:737: UserWarning: The least populated class in y has only 1 members, which is less than n_splits=5.\n",
            "  warnings.warn(\n"
          ]
        },
        {
          "ename": "KeyboardInterrupt",
          "evalue": "",
          "output_type": "error",
          "traceback": [
            "\u001b[1;31m---------------------------------------------------------------------------\u001b[0m",
            "\u001b[1;31mKeyboardInterrupt\u001b[0m                         Traceback (most recent call last)",
            "Cell \u001b[1;32mIn [29], line 51\u001b[0m\n\u001b[0;32m     45\u001b[0m param_grid \u001b[38;5;241m=\u001b[39m {\n\u001b[0;32m     46\u001b[0m     \u001b[38;5;124m'\u001b[39m\u001b[38;5;124mtfidf__max_features\u001b[39m\u001b[38;5;124m'\u001b[39m: [\u001b[38;5;241m1000\u001b[39m, \u001b[38;5;241m2000\u001b[39m, \u001b[38;5;241m3000\u001b[39m],\n\u001b[0;32m     47\u001b[0m     \u001b[38;5;124m'\u001b[39m\u001b[38;5;124mmodel__hidden_layer_sizes\u001b[39m\u001b[38;5;124m'\u001b[39m: [(\u001b[38;5;241m50\u001b[39m,), (\u001b[38;5;241m100\u001b[39m,), (\u001b[38;5;241m50\u001b[39m, \u001b[38;5;241m50\u001b[39m), (\u001b[38;5;241m100\u001b[39m, \u001b[38;5;241m100\u001b[39m)]\n\u001b[0;32m     48\u001b[0m }\n\u001b[0;32m     50\u001b[0m \u001b[38;5;66;03m# Train and evaluate the model\u001b[39;00m\n\u001b[1;32m---> 51\u001b[0m train_score, test_score, mean_train_time, mean_inference_time \u001b[38;5;241m=\u001b[39m \u001b[43mtrain_and_eval\u001b[49m\u001b[43m(\u001b[49m\u001b[43mX\u001b[49m\u001b[43m,\u001b[49m\u001b[43m \u001b[49m\u001b[43my\u001b[49m\u001b[43m,\u001b[49m\u001b[43m \u001b[49m\u001b[43mmlp\u001b[49m\u001b[43m,\u001b[49m\u001b[43m \u001b[49m\u001b[43mparam_grid\u001b[49m\u001b[43m)\u001b[49m\n\u001b[0;32m     53\u001b[0m \u001b[38;5;66;03m# Print out results\u001b[39;00m\n\u001b[0;32m     54\u001b[0m \u001b[38;5;28mprint\u001b[39m(\u001b[38;5;124m\"\u001b[39m\u001b[38;5;124mTrain Score:\u001b[39m\u001b[38;5;124m\"\u001b[39m, train_score)\n",
            "Cell \u001b[1;32mIn [29], line 23\u001b[0m, in \u001b[0;36mtrain_and_eval\u001b[1;34m(X, y, model, param_grid, test_size)\u001b[0m\n\u001b[0;32m     21\u001b[0m grid_search \u001b[38;5;241m=\u001b[39m GridSearchCV(pipeline, param_grid, cv\u001b[38;5;241m=\u001b[39m\u001b[38;5;241m5\u001b[39m, n_jobs\u001b[38;5;241m=\u001b[39m\u001b[38;5;241m-\u001b[39m\u001b[38;5;241m1\u001b[39m)\n\u001b[0;32m     22\u001b[0m start_train \u001b[38;5;241m=\u001b[39m time\u001b[38;5;241m.\u001b[39mtime()\n\u001b[1;32m---> 23\u001b[0m \u001b[43mgrid_search\u001b[49m\u001b[38;5;241;43m.\u001b[39;49m\u001b[43mfit\u001b[49m\u001b[43m(\u001b[49m\u001b[43mX_train\u001b[49m\u001b[43m,\u001b[49m\u001b[43m \u001b[49m\u001b[43my_train\u001b[49m\u001b[43m)\u001b[49m\n\u001b[0;32m     24\u001b[0m end_train \u001b[38;5;241m=\u001b[39m time\u001b[38;5;241m.\u001b[39mtime()\n\u001b[0;32m     26\u001b[0m \u001b[38;5;66;03m# Predict on the test set\u001b[39;00m\n",
            "File \u001b[1;32mc:\\Users\\USER\\AppData\\Local\\Programs\\Python\\Python39\\lib\\site-packages\\sklearn\\base.py:1474\u001b[0m, in \u001b[0;36m_fit_context.<locals>.decorator.<locals>.wrapper\u001b[1;34m(estimator, *args, **kwargs)\u001b[0m\n\u001b[0;32m   1467\u001b[0m     estimator\u001b[38;5;241m.\u001b[39m_validate_params()\n\u001b[0;32m   1469\u001b[0m \u001b[38;5;28;01mwith\u001b[39;00m config_context(\n\u001b[0;32m   1470\u001b[0m     skip_parameter_validation\u001b[38;5;241m=\u001b[39m(\n\u001b[0;32m   1471\u001b[0m         prefer_skip_nested_validation \u001b[38;5;129;01mor\u001b[39;00m global_skip_validation\n\u001b[0;32m   1472\u001b[0m     )\n\u001b[0;32m   1473\u001b[0m ):\n\u001b[1;32m-> 1474\u001b[0m     \u001b[38;5;28;01mreturn\u001b[39;00m fit_method(estimator, \u001b[38;5;241m*\u001b[39margs, \u001b[38;5;241m*\u001b[39m\u001b[38;5;241m*\u001b[39mkwargs)\n",
            "File \u001b[1;32mc:\\Users\\USER\\AppData\\Local\\Programs\\Python\\Python39\\lib\\site-packages\\sklearn\\model_selection\\_search.py:970\u001b[0m, in \u001b[0;36mBaseSearchCV.fit\u001b[1;34m(self, X, y, **params)\u001b[0m\n\u001b[0;32m    964\u001b[0m     results \u001b[38;5;241m=\u001b[39m \u001b[38;5;28mself\u001b[39m\u001b[38;5;241m.\u001b[39m_format_results(\n\u001b[0;32m    965\u001b[0m         all_candidate_params, n_splits, all_out, all_more_results\n\u001b[0;32m    966\u001b[0m     )\n\u001b[0;32m    968\u001b[0m     \u001b[38;5;28;01mreturn\u001b[39;00m results\n\u001b[1;32m--> 970\u001b[0m \u001b[38;5;28;43mself\u001b[39;49m\u001b[38;5;241;43m.\u001b[39;49m\u001b[43m_run_search\u001b[49m\u001b[43m(\u001b[49m\u001b[43mevaluate_candidates\u001b[49m\u001b[43m)\u001b[49m\n\u001b[0;32m    972\u001b[0m \u001b[38;5;66;03m# multimetric is determined here because in the case of a callable\u001b[39;00m\n\u001b[0;32m    973\u001b[0m \u001b[38;5;66;03m# self.scoring the return type is only known after calling\u001b[39;00m\n\u001b[0;32m    974\u001b[0m first_test_score \u001b[38;5;241m=\u001b[39m all_out[\u001b[38;5;241m0\u001b[39m][\u001b[38;5;124m\"\u001b[39m\u001b[38;5;124mtest_scores\u001b[39m\u001b[38;5;124m\"\u001b[39m]\n",
            "File \u001b[1;32mc:\\Users\\USER\\AppData\\Local\\Programs\\Python\\Python39\\lib\\site-packages\\sklearn\\model_selection\\_search.py:1527\u001b[0m, in \u001b[0;36mGridSearchCV._run_search\u001b[1;34m(self, evaluate_candidates)\u001b[0m\n\u001b[0;32m   1525\u001b[0m \u001b[38;5;28;01mdef\u001b[39;00m \u001b[38;5;21m_run_search\u001b[39m(\u001b[38;5;28mself\u001b[39m, evaluate_candidates):\n\u001b[0;32m   1526\u001b[0m     \u001b[38;5;124;03m\"\"\"Search all candidates in param_grid\"\"\"\u001b[39;00m\n\u001b[1;32m-> 1527\u001b[0m     \u001b[43mevaluate_candidates\u001b[49m\u001b[43m(\u001b[49m\u001b[43mParameterGrid\u001b[49m\u001b[43m(\u001b[49m\u001b[38;5;28;43mself\u001b[39;49m\u001b[38;5;241;43m.\u001b[39;49m\u001b[43mparam_grid\u001b[49m\u001b[43m)\u001b[49m\u001b[43m)\u001b[49m\n",
            "File \u001b[1;32mc:\\Users\\USER\\AppData\\Local\\Programs\\Python\\Python39\\lib\\site-packages\\sklearn\\model_selection\\_search.py:916\u001b[0m, in \u001b[0;36mBaseSearchCV.fit.<locals>.evaluate_candidates\u001b[1;34m(candidate_params, cv, more_results)\u001b[0m\n\u001b[0;32m    908\u001b[0m \u001b[38;5;28;01mif\u001b[39;00m \u001b[38;5;28mself\u001b[39m\u001b[38;5;241m.\u001b[39mverbose \u001b[38;5;241m>\u001b[39m \u001b[38;5;241m0\u001b[39m:\n\u001b[0;32m    909\u001b[0m     \u001b[38;5;28mprint\u001b[39m(\n\u001b[0;32m    910\u001b[0m         \u001b[38;5;124m\"\u001b[39m\u001b[38;5;124mFitting \u001b[39m\u001b[38;5;132;01m{0}\u001b[39;00m\u001b[38;5;124m folds for each of \u001b[39m\u001b[38;5;132;01m{1}\u001b[39;00m\u001b[38;5;124m candidates,\u001b[39m\u001b[38;5;124m\"\u001b[39m\n\u001b[0;32m    911\u001b[0m         \u001b[38;5;124m\"\u001b[39m\u001b[38;5;124m totalling \u001b[39m\u001b[38;5;132;01m{2}\u001b[39;00m\u001b[38;5;124m fits\u001b[39m\u001b[38;5;124m\"\u001b[39m\u001b[38;5;241m.\u001b[39mformat(\n\u001b[0;32m    912\u001b[0m             n_splits, n_candidates, n_candidates \u001b[38;5;241m*\u001b[39m n_splits\n\u001b[0;32m    913\u001b[0m         )\n\u001b[0;32m    914\u001b[0m     )\n\u001b[1;32m--> 916\u001b[0m out \u001b[38;5;241m=\u001b[39m \u001b[43mparallel\u001b[49m\u001b[43m(\u001b[49m\n\u001b[0;32m    917\u001b[0m \u001b[43m    \u001b[49m\u001b[43mdelayed\u001b[49m\u001b[43m(\u001b[49m\u001b[43m_fit_and_score\u001b[49m\u001b[43m)\u001b[49m\u001b[43m(\u001b[49m\n\u001b[0;32m    918\u001b[0m \u001b[43m        \u001b[49m\u001b[43mclone\u001b[49m\u001b[43m(\u001b[49m\u001b[43mbase_estimator\u001b[49m\u001b[43m)\u001b[49m\u001b[43m,\u001b[49m\n\u001b[0;32m    919\u001b[0m \u001b[43m        \u001b[49m\u001b[43mX\u001b[49m\u001b[43m,\u001b[49m\n\u001b[0;32m    920\u001b[0m \u001b[43m        \u001b[49m\u001b[43my\u001b[49m\u001b[43m,\u001b[49m\n\u001b[0;32m    921\u001b[0m \u001b[43m        \u001b[49m\u001b[43mtrain\u001b[49m\u001b[38;5;241;43m=\u001b[39;49m\u001b[43mtrain\u001b[49m\u001b[43m,\u001b[49m\n\u001b[0;32m    922\u001b[0m \u001b[43m        \u001b[49m\u001b[43mtest\u001b[49m\u001b[38;5;241;43m=\u001b[39;49m\u001b[43mtest\u001b[49m\u001b[43m,\u001b[49m\n\u001b[0;32m    923\u001b[0m \u001b[43m        \u001b[49m\u001b[43mparameters\u001b[49m\u001b[38;5;241;43m=\u001b[39;49m\u001b[43mparameters\u001b[49m\u001b[43m,\u001b[49m\n\u001b[0;32m    924\u001b[0m \u001b[43m        \u001b[49m\u001b[43msplit_progress\u001b[49m\u001b[38;5;241;43m=\u001b[39;49m\u001b[43m(\u001b[49m\u001b[43msplit_idx\u001b[49m\u001b[43m,\u001b[49m\u001b[43m \u001b[49m\u001b[43mn_splits\u001b[49m\u001b[43m)\u001b[49m\u001b[43m,\u001b[49m\n\u001b[0;32m    925\u001b[0m \u001b[43m        \u001b[49m\u001b[43mcandidate_progress\u001b[49m\u001b[38;5;241;43m=\u001b[39;49m\u001b[43m(\u001b[49m\u001b[43mcand_idx\u001b[49m\u001b[43m,\u001b[49m\u001b[43m \u001b[49m\u001b[43mn_candidates\u001b[49m\u001b[43m)\u001b[49m\u001b[43m,\u001b[49m\n\u001b[0;32m    926\u001b[0m \u001b[43m        \u001b[49m\u001b[38;5;241;43m*\u001b[39;49m\u001b[38;5;241;43m*\u001b[39;49m\u001b[43mfit_and_score_kwargs\u001b[49m\u001b[43m,\u001b[49m\n\u001b[0;32m    927\u001b[0m \u001b[43m    \u001b[49m\u001b[43m)\u001b[49m\n\u001b[0;32m    928\u001b[0m \u001b[43m    \u001b[49m\u001b[38;5;28;43;01mfor\u001b[39;49;00m\u001b[43m \u001b[49m\u001b[43m(\u001b[49m\u001b[43mcand_idx\u001b[49m\u001b[43m,\u001b[49m\u001b[43m \u001b[49m\u001b[43mparameters\u001b[49m\u001b[43m)\u001b[49m\u001b[43m,\u001b[49m\u001b[43m \u001b[49m\u001b[43m(\u001b[49m\u001b[43msplit_idx\u001b[49m\u001b[43m,\u001b[49m\u001b[43m \u001b[49m\u001b[43m(\u001b[49m\u001b[43mtrain\u001b[49m\u001b[43m,\u001b[49m\u001b[43m \u001b[49m\u001b[43mtest\u001b[49m\u001b[43m)\u001b[49m\u001b[43m)\u001b[49m\u001b[43m \u001b[49m\u001b[38;5;129;43;01min\u001b[39;49;00m\u001b[43m \u001b[49m\u001b[43mproduct\u001b[49m\u001b[43m(\u001b[49m\n\u001b[0;32m    929\u001b[0m \u001b[43m        \u001b[49m\u001b[38;5;28;43menumerate\u001b[39;49m\u001b[43m(\u001b[49m\u001b[43mcandidate_params\u001b[49m\u001b[43m)\u001b[49m\u001b[43m,\u001b[49m\n\u001b[0;32m    930\u001b[0m \u001b[43m        \u001b[49m\u001b[38;5;28;43menumerate\u001b[39;49m\u001b[43m(\u001b[49m\u001b[43mcv\u001b[49m\u001b[38;5;241;43m.\u001b[39;49m\u001b[43msplit\u001b[49m\u001b[43m(\u001b[49m\u001b[43mX\u001b[49m\u001b[43m,\u001b[49m\u001b[43m \u001b[49m\u001b[43my\u001b[49m\u001b[43m,\u001b[49m\u001b[43m \u001b[49m\u001b[38;5;241;43m*\u001b[39;49m\u001b[38;5;241;43m*\u001b[39;49m\u001b[43mrouted_params\u001b[49m\u001b[38;5;241;43m.\u001b[39;49m\u001b[43msplitter\u001b[49m\u001b[38;5;241;43m.\u001b[39;49m\u001b[43msplit\u001b[49m\u001b[43m)\u001b[49m\u001b[43m)\u001b[49m\u001b[43m,\u001b[49m\n\u001b[0;32m    931\u001b[0m \u001b[43m    \u001b[49m\u001b[43m)\u001b[49m\n\u001b[0;32m    932\u001b[0m \u001b[43m\u001b[49m\u001b[43m)\u001b[49m\n\u001b[0;32m    934\u001b[0m \u001b[38;5;28;01mif\u001b[39;00m \u001b[38;5;28mlen\u001b[39m(out) \u001b[38;5;241m<\u001b[39m \u001b[38;5;241m1\u001b[39m:\n\u001b[0;32m    935\u001b[0m     \u001b[38;5;28;01mraise\u001b[39;00m \u001b[38;5;167;01mValueError\u001b[39;00m(\n\u001b[0;32m    936\u001b[0m         \u001b[38;5;124m\"\u001b[39m\u001b[38;5;124mNo fits were performed. \u001b[39m\u001b[38;5;124m\"\u001b[39m\n\u001b[0;32m    937\u001b[0m         \u001b[38;5;124m\"\u001b[39m\u001b[38;5;124mWas the CV iterator empty? \u001b[39m\u001b[38;5;124m\"\u001b[39m\n\u001b[0;32m    938\u001b[0m         \u001b[38;5;124m\"\u001b[39m\u001b[38;5;124mWere there no candidates?\u001b[39m\u001b[38;5;124m\"\u001b[39m\n\u001b[0;32m    939\u001b[0m     )\n",
            "File \u001b[1;32mc:\\Users\\USER\\AppData\\Local\\Programs\\Python\\Python39\\lib\\site-packages\\sklearn\\utils\\parallel.py:67\u001b[0m, in \u001b[0;36mParallel.__call__\u001b[1;34m(self, iterable)\u001b[0m\n\u001b[0;32m     62\u001b[0m config \u001b[38;5;241m=\u001b[39m get_config()\n\u001b[0;32m     63\u001b[0m iterable_with_config \u001b[38;5;241m=\u001b[39m (\n\u001b[0;32m     64\u001b[0m     (_with_config(delayed_func, config), args, kwargs)\n\u001b[0;32m     65\u001b[0m     \u001b[38;5;28;01mfor\u001b[39;00m delayed_func, args, kwargs \u001b[38;5;129;01min\u001b[39;00m iterable\n\u001b[0;32m     66\u001b[0m )\n\u001b[1;32m---> 67\u001b[0m \u001b[38;5;28;01mreturn\u001b[39;00m \u001b[38;5;28;43msuper\u001b[39;49m\u001b[43m(\u001b[49m\u001b[43m)\u001b[49m\u001b[38;5;241;43m.\u001b[39;49m\u001b[38;5;21;43m__call__\u001b[39;49m\u001b[43m(\u001b[49m\u001b[43miterable_with_config\u001b[49m\u001b[43m)\u001b[49m\n",
            "File \u001b[1;32mc:\\Users\\USER\\AppData\\Local\\Programs\\Python\\Python39\\lib\\site-packages\\joblib\\parallel.py:1952\u001b[0m, in \u001b[0;36mParallel.__call__\u001b[1;34m(self, iterable)\u001b[0m\n\u001b[0;32m   1946\u001b[0m \u001b[38;5;66;03m# The first item from the output is blank, but it makes the interpreter\u001b[39;00m\n\u001b[0;32m   1947\u001b[0m \u001b[38;5;66;03m# progress until it enters the Try/Except block of the generator and\u001b[39;00m\n\u001b[0;32m   1948\u001b[0m \u001b[38;5;66;03m# reach the first `yield` statement. This starts the aynchronous\u001b[39;00m\n\u001b[0;32m   1949\u001b[0m \u001b[38;5;66;03m# dispatch of the tasks to the workers.\u001b[39;00m\n\u001b[0;32m   1950\u001b[0m \u001b[38;5;28mnext\u001b[39m(output)\n\u001b[1;32m-> 1952\u001b[0m \u001b[38;5;28;01mreturn\u001b[39;00m output \u001b[38;5;28;01mif\u001b[39;00m \u001b[38;5;28mself\u001b[39m\u001b[38;5;241m.\u001b[39mreturn_generator \u001b[38;5;28;01melse\u001b[39;00m \u001b[38;5;28;43mlist\u001b[39;49m\u001b[43m(\u001b[49m\u001b[43moutput\u001b[49m\u001b[43m)\u001b[49m\n",
            "File \u001b[1;32mc:\\Users\\USER\\AppData\\Local\\Programs\\Python\\Python39\\lib\\site-packages\\joblib\\parallel.py:1595\u001b[0m, in \u001b[0;36mParallel._get_outputs\u001b[1;34m(self, iterator, pre_dispatch)\u001b[0m\n\u001b[0;32m   1592\u001b[0m     \u001b[38;5;28;01myield\u001b[39;00m\n\u001b[0;32m   1594\u001b[0m     \u001b[38;5;28;01mwith\u001b[39;00m \u001b[38;5;28mself\u001b[39m\u001b[38;5;241m.\u001b[39m_backend\u001b[38;5;241m.\u001b[39mretrieval_context():\n\u001b[1;32m-> 1595\u001b[0m         \u001b[38;5;28;01myield from\u001b[39;00m \u001b[38;5;28mself\u001b[39m\u001b[38;5;241m.\u001b[39m_retrieve()\n\u001b[0;32m   1597\u001b[0m \u001b[38;5;28;01mexcept\u001b[39;00m \u001b[38;5;167;01mGeneratorExit\u001b[39;00m:\n\u001b[0;32m   1598\u001b[0m     \u001b[38;5;66;03m# The generator has been garbage collected before being fully\u001b[39;00m\n\u001b[0;32m   1599\u001b[0m     \u001b[38;5;66;03m# consumed. This aborts the remaining tasks if possible and warn\u001b[39;00m\n\u001b[0;32m   1600\u001b[0m     \u001b[38;5;66;03m# the user if necessary.\u001b[39;00m\n\u001b[0;32m   1601\u001b[0m     \u001b[38;5;28mself\u001b[39m\u001b[38;5;241m.\u001b[39m_exception \u001b[38;5;241m=\u001b[39m \u001b[38;5;28;01mTrue\u001b[39;00m\n",
            "File \u001b[1;32mc:\\Users\\USER\\AppData\\Local\\Programs\\Python\\Python39\\lib\\site-packages\\joblib\\parallel.py:1707\u001b[0m, in \u001b[0;36mParallel._retrieve\u001b[1;34m(self)\u001b[0m\n\u001b[0;32m   1702\u001b[0m \u001b[38;5;66;03m# If the next job is not ready for retrieval yet, we just wait for\u001b[39;00m\n\u001b[0;32m   1703\u001b[0m \u001b[38;5;66;03m# async callbacks to progress.\u001b[39;00m\n\u001b[0;32m   1704\u001b[0m \u001b[38;5;28;01mif\u001b[39;00m ((\u001b[38;5;28mlen\u001b[39m(\u001b[38;5;28mself\u001b[39m\u001b[38;5;241m.\u001b[39m_jobs) \u001b[38;5;241m==\u001b[39m \u001b[38;5;241m0\u001b[39m) \u001b[38;5;129;01mor\u001b[39;00m\n\u001b[0;32m   1705\u001b[0m     (\u001b[38;5;28mself\u001b[39m\u001b[38;5;241m.\u001b[39m_jobs[\u001b[38;5;241m0\u001b[39m]\u001b[38;5;241m.\u001b[39mget_status(\n\u001b[0;32m   1706\u001b[0m         timeout\u001b[38;5;241m=\u001b[39m\u001b[38;5;28mself\u001b[39m\u001b[38;5;241m.\u001b[39mtimeout) \u001b[38;5;241m==\u001b[39m TASK_PENDING)):\n\u001b[1;32m-> 1707\u001b[0m     \u001b[43mtime\u001b[49m\u001b[38;5;241;43m.\u001b[39;49m\u001b[43msleep\u001b[49m\u001b[43m(\u001b[49m\u001b[38;5;241;43m0.01\u001b[39;49m\u001b[43m)\u001b[49m\n\u001b[0;32m   1708\u001b[0m     \u001b[38;5;28;01mcontinue\u001b[39;00m\n\u001b[0;32m   1710\u001b[0m \u001b[38;5;66;03m# We need to be careful: the job list can be filling up as\u001b[39;00m\n\u001b[0;32m   1711\u001b[0m \u001b[38;5;66;03m# we empty it and Python list are not thread-safe by\u001b[39;00m\n\u001b[0;32m   1712\u001b[0m \u001b[38;5;66;03m# default hence the use of the lock\u001b[39;00m\n",
            "\u001b[1;31mKeyboardInterrupt\u001b[0m: "
          ]
        }
      ],
      "source": [
        "from sklearn.feature_extraction.text import TfidfVectorizer\n",
        "from sklearn.model_selection import train_test_split, GridSearchCV\n",
        "from sklearn.pipeline import Pipeline\n",
        "from sklearn.metrics import accuracy_score\n",
        "from sklearn.neural_network import MLPClassifier\n",
        "import numpy as np\n",
        "import time\n",
        "\n",
        "# Define a function to preprocess data, train, and evaluate the model\n",
        "def train_and_eval(X, y, model, param_grid, test_size=0.2):\n",
        "    # Split data into training and testing sets\n",
        "    X_train, X_test, y_train, y_test = train_test_split(X, y, test_size=test_size, random_state=42)\n",
        "    \n",
        "    # Create a pipeline\n",
        "    pipeline = Pipeline([\n",
        "        ('tfidf', TfidfVectorizer()),\n",
        "        ('model', model)\n",
        "    ])\n",
        "    \n",
        "    # Perform grid search for hyperparameter optimization\n",
        "    grid_search = GridSearchCV(pipeline, param_grid, cv=5, n_jobs=-1)\n",
        "    start_train = time.time()\n",
        "    grid_search.fit(X_train, y_train)\n",
        "    end_train = time.time()\n",
        "    \n",
        "    # Predict on the test set\n",
        "    start_pred = time.time()\n",
        "    y_pred = grid_search.predict(X_test)\n",
        "    end_pred = time.time()\n",
        "    \n",
        "    # Calculate scores\n",
        "    train_score = grid_search.best_score_\n",
        "    test_score = accuracy_score(y_test, y_pred)\n",
        "    mean_train_time = (end_train - start_train) / 5  # Mean training time per fold\n",
        "    mean_inference_time = (end_pred - start_pred) / len(X_test)  # Mean inference time per sample\n",
        "    \n",
        "    return train_score, test_score, mean_train_time, mean_inference_time\n",
        "\n",
        "# Sample data\n",
        "X = df['overview']\n",
        "y = df['genres']\n",
        "\n",
        "# Define MLPClassifier and hyperparameters to tune\n",
        "mlp = MLPClassifier(max_iter=100)\n",
        "param_grid = {\n",
        "    'tfidf__max_features': [1000, 2000, 3000],\n",
        "    'model__hidden_layer_sizes': [(50,), (100,), (50, 50), (100, 100)]\n",
        "}\n",
        "\n",
        "# Train and evaluate the model\n",
        "train_score, test_score, mean_train_time, mean_inference_time = train_and_eval(X, y, mlp, param_grid)\n",
        "\n",
        "# Print out results\n",
        "print(\"Train Score:\", train_score)\n",
        "print(\"Test Score:\", test_score)\n",
        "print(\"Mean Training Time (seconds):\", mean_train_time)\n",
        "print(\"Mean Inference Time (seconds):\", mean_inference_time)\n"
      ]
    },
    {
      "cell_type": "markdown",
      "id": "5976997e",
      "metadata": {
        "id": "5976997e"
      },
      "source": [
        "Write a paragraph of ~150 words about how you went about selecting and tuning your model, and how you may want to make improvements to your model if you were to continue working on this. Plots are very good but not strictly necessary (i.e. try to add plots if you can)."
      ]
    },
    {
      "cell_type": "markdown",
      "id": "54186a60",
      "metadata": {
        "id": "54186a60"
      },
      "source": [
        "It keeps running and running without output so I don't think I did a good job :("
      ]
    },
    {
      "cell_type": "markdown",
      "id": "14b50007",
      "metadata": {
        "id": "14b50007"
      },
      "source": [
        "# BONUS\n",
        "\n",
        "If you are happy with your score and wish to see how well it is doing with respect to other people (a sort of mini-competition), fill out the following form with the train_score (accuracy$\\in[0,1]$), test_score (accuracy$\\in[0,1]$), mean training time (in seconds), and mean inference time (in seconds) of your model, as well as what method you use. You can submit as many times before the deadline as you wish. Your final results will be correlated with your submission in order to validate your results (if we cannot validate them, they will be immediately disqualified).\n",
        "\n",
        "[FORM HERE](https://forms.gle/rXRtXScABH5oDLRWA)"
      ]
    }
  ],
  "metadata": {
    "colab": {
      "provenance": []
    },
    "kernelspec": {
      "display_name": "Python 3 (ipykernel)",
      "language": "python",
      "name": "python3"
    },
    "language_info": {
      "codemirror_mode": {
        "name": "ipython",
        "version": 3
      },
      "file_extension": ".py",
      "mimetype": "text/x-python",
      "name": "python",
      "nbconvert_exporter": "python",
      "pygments_lexer": "ipython3",
      "version": "3.9.4"
    }
  },
  "nbformat": 4,
  "nbformat_minor": 5
}
